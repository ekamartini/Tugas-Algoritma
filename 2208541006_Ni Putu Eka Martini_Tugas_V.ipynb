{
 "cells": [
  {
   "cell_type": "markdown",
   "id": "13c9eed0",
   "metadata": {},
   "source": [
    "# 5.16 List 2 Dimensi"
   ]
  },
  {
   "cell_type": "markdown",
   "id": "29ad92c1",
   "metadata": {},
   "source": [
    "List 2 dimensi pada umumnya adalah menempatkan sebuah list di dalam list. Penggambarannya seperti sebuah matrik. "
   ]
  },
  {
   "cell_type": "code",
   "execution_count": 1,
   "id": "37175545",
   "metadata": {},
   "outputs": [
    {
     "name": "stdout",
     "output_type": "stream",
     "text": [
      "[[-1, 0, 1, 2, 3, 4], [5, 6, 7, 8, 9], [10, 11, 12, 13], [14, 15, 16, 17]]\n"
     ]
    }
   ],
   "source": [
    "#============================================================\n",
    "#Latihan mengenai list 2 dimensi\n",
    "#Membuat Matriks dalam list 2 dimensi\n",
    "#============================================================\n",
    "\n",
    "# Dideklarasikan sebuah variabel 'matriks' yang berisi beberapa list angka yang membentuk matriks\n",
    "matriks = [\n",
    "    [-1, 0, 1, 2, 3, 4], #baris ke 0\n",
    "    [5, 6, 7, 8, 9], #baris ke 1\n",
    "    [10, 11, 12, 13], #baris ke 2\n",
    "    [14, 15, 16, 17], #baris ke 3\n",
    "]\n",
    "#Begitu pula dengan kolom dengan kolom yang paling kiri adalah kolom ke-0, setelahnya adalah kolom ke-1, dan seterusnya\n",
    "print (matriks)\n",
    "#dilakukan perintah print untuk mencetak hasil\n",
    "\n",
    "#<<<<<<<<<<<<<<<<<<<<<<<<<<<<<<<<<<<<<<<<<<<<<<<<<<<<<<<<<<<<<<<<\n",
    "#Adapun output yang dihasilkan yaitu seperti vektor dalam vektor\n",
    "#<<<<<<<<<<<<<<<<<<<<<<<<<<<<<<<<<<<<<<<<<<<<<<<<<<<<<<<<<<<<<<<<\n",
    "\n"
   ]
  },
  {
   "cell_type": "code",
   "execution_count": 4,
   "id": "888e4d4e",
   "metadata": {},
   "outputs": [
    {
     "data": {
      "text/plain": [
       "[14, 15, 16, 17]"
      ]
     },
     "execution_count": 4,
     "metadata": {},
     "output_type": "execute_result"
    }
   ],
   "source": [
    "#============================================================\n",
    "#Memanggil matriks tertentu\n",
    "#============================================================\n",
    "\n",
    "#Kita akan memanggil matriks baris ke-3 \n",
    "matriks [3]\n",
    "\n",
    "#<<<<<<<<<<<<<<<<<<<<<<<<<<<<<<<<<<<<<<<<<<<<<<<<<<<<<<<<<<<<<<<\n",
    "#Output yang dihasilkan adalah seluruh elemen matriks baris ke-3\n",
    "#<<<<<<<<<<<<<<<<<<<<<<<<<<<<<<<<<<<<<<<<<<<<<<<<<<<<<<<<<<<<<<<\n"
   ]
  },
  {
   "cell_type": "code",
   "execution_count": 7,
   "id": "cb5d402d",
   "metadata": {},
   "outputs": [
    {
     "data": {
      "text/plain": [
       "8"
      ]
     },
     "execution_count": 7,
     "metadata": {},
     "output_type": "execute_result"
    }
   ],
   "source": [
    "#============================================================\n",
    "#Memanggil anggota tertentu dalam list 2 dimensi\n",
    "#============================================================\n",
    "\n",
    "#Kita akan memanggil sebuah anggota matriks pada kolom dan baris tertentu\n",
    "matriks [1][3]\n",
    "#angka [1] menunjukkan baris\n",
    "#angka [3] menunjukkan kolom\n",
    "\n",
    "#<<<<<<<<<<<<<<<<<<<<<<<<<<<<<<<<<<<<<<<<<<<<<<<<<<<<<<<<<<<<<<<<<<<\n",
    "#Output yang dihasilkan adalah elemen matriks baris ke-2 kolom ke-5\n",
    "#<<<<<<<<<<<<<<<<<<<<<<<<<<<<<<<<<<<<<<<<<<<<<<<<<<<<<<<<<<<<<<<<<<"
   ]
  },
  {
   "cell_type": "code",
   "execution_count": 10,
   "id": "997c5a5b",
   "metadata": {},
   "outputs": [
    {
     "name": "stdout",
     "output_type": "stream",
     "text": [
      "20\n"
     ]
    }
   ],
   "source": [
    "#============================================================\n",
    "#Mengganti salah satu elemen dalam list 2 dimensi\n",
    "#============================================================\n",
    "\n",
    "#Kita akan mengganti salah satu elemen dalam varibel matriks\n",
    "#Misalnya kita akan mengganti elemen matriks baris ke-1 kolom ke-3 dengan angka 17\n",
    "matriks [2][3] = 20\n",
    "#dideklarasikan variabel beserta baris dan kolom yang ingin diganti serta sertakan pula angka penggantinya\n",
    "# [2] menunjukkan baris\n",
    "# [3] menunjukkan kolom\n",
    "print (matriks [2][3])\n",
    "#dilakukan perintah print untuk mencetak angka yang menjadi pengganti yaitu 17\n",
    "\n"
   ]
  },
  {
   "cell_type": "code",
   "execution_count": 11,
   "id": "0d241386",
   "metadata": {},
   "outputs": [
    {
     "data": {
      "text/plain": [
       "[[-1, 0, 1, 2, 3, 4], [5, 6, 7, 8, 9], [10, 11, 12, 20], [14, 15, 16, 17]]"
      ]
     },
     "execution_count": 11,
     "metadata": {},
     "output_type": "execute_result"
    }
   ],
   "source": [
    "#ketik kembali variabel untuk mencetak anggota list yang baru\n",
    "matriks\n",
    "\n",
    "#<<<<<<<<<<<<<<<<<<<<<<<<<<<<<<<<<<<<<<<<<<<<<<<<<<<<<<<<<<<<<<<<<<<<<<<<<<<<<<<<<<<<<<<<<<<<<<<\n",
    "#Output yang dihasilkan adalah elemen matriks dari baris ke-2 kolom ke-3 akan berubah menjadi 20\n",
    "#<<<<<<<<<<<<<<<<<<<<<<<<<<<<<<<<<<<<<<<<<<<<<<<<<<<<<<<<<<<<<<<<<<<<<<<<<<<<<<<<<<<<<<<<<<<<<<<<"
   ]
  },
  {
   "cell_type": "code",
   "execution_count": 12,
   "id": "0f9010fd",
   "metadata": {},
   "outputs": [
    {
     "name": "stdout",
     "output_type": "stream",
     "text": [
      "[-1, 0, 1, 2, 3, 4]\n",
      "-1\n",
      "0\n",
      "1\n",
      "2\n",
      "3\n",
      "4\n",
      "[5, 6, 7, 8, 9]\n",
      "5\n",
      "6\n",
      "7\n",
      "8\n",
      "9\n",
      "[10, 11, 12, 20]\n",
      "10\n",
      "11\n",
      "12\n",
      "20\n",
      "[14, 15, 16, 17]\n",
      "14\n",
      "15\n",
      "16\n",
      "17\n"
     ]
    }
   ],
   "source": [
    "#=================================================================\n",
    "#Memanggil anggota tertentu dalam list 2 dimensi menggunakan for\n",
    "#=================================================================\n",
    "\n",
    "for baris in matriks :\n",
    "    print (baris)\n",
    "#gunakan perintah print, kemudian sistem akan mencetak baris dari setiap matriks\n",
    "    for kolom in baris :\n",
    "        print (kolom)\n",
    "#gunakan perintah print maka sistem akan mencetak baris dalam bentuk kolom"
   ]
  },
  {
   "cell_type": "code",
   "execution_count": 13,
   "id": "beab2089",
   "metadata": {},
   "outputs": [
    {
     "name": "stdout",
     "output_type": "stream",
     "text": [
      "[-1, 0, 1, 2, 3, 4]\n",
      "[5, 6, 7, 8, 9]\n",
      "[10, 11, 12, 20]\n",
      "[14, 15, 16, 17]\n",
      "14\n",
      "15\n",
      "16\n",
      "17\n"
     ]
    }
   ],
   "source": [
    "#Hal ini akan berbeda dengan\n",
    "#akan berbeda dengan\n",
    "for baris in matriks :\n",
    "    print (baris)\n",
    "#setelah seluruh baris akan diprint terlebih dahulu\n",
    "#kemudian baru di print untuk kolomnya ( dan kolom yang diprint hanya yang paling akhir atau cetakan terakhir)\n",
    "for kolom in baris :\n",
    "        print (kolom)\n",
    "        \n",
    "#output yang dihasilkan adalah seluruh baris dalam matriks dan kolom daari baris trakhir matriks"
   ]
  },
  {
   "cell_type": "code",
   "execution_count": 17,
   "id": "5acd42e7",
   "metadata": {},
   "outputs": [
    {
     "name": "stdout",
     "output_type": "stream",
     "text": [
      "[['Eka', 'Gek Ayu', 'Gita', 'Kendran'], ['Adina', 'Leo', 'Atmaja', 'Indry', 'Rika'], ['Mitha', 'Praja', 'Utik']]\n"
     ]
    }
   ],
   "source": [
    "#====================================================================================\n",
    "#List 2 dimensi dengan menggunakan tipe data string\n",
    "#List 2 dimensi tidak hanya bisa dilakukan pada tepe data integer atau numerik\n",
    "#Namun, juga dapat digunakan pada tipe data string\n",
    "#===================================================================================\n",
    "#deklarasikan variabel dengan anggota list 2 dimensi\n",
    "#ingat untuk menyertakan tanda '' atau \" \" untuk setiap elemen karena jika tidak ada, maka sistem akan membaca sebagai variabel sehingga output akan error\n",
    "nama_teman = [\n",
    "    ['Eka', 'Gek Ayu', 'Gita', 'Kendran'], #baris ke-0\n",
    "    ['Adina', 'Leo', 'Atmaja', 'Indry', 'Rika'], #baris ke-1\n",
    "    ['Mitha', 'Praja', 'Utik'], #baris ke-2\n",
    "]\n",
    "   \n",
    "print (nama_teman)\n",
    "#cetak variabel\n",
    "\n",
    "#<<<<<<<<<<<<<<<<<<<<<<<<<<<<<<<<<<<<<<<<<<<<<<<<<<<<<<<<<<<<<<<<\n",
    "#Adapun output yang dihasilkan yaitu seperti vektor dalam vektor \n",
    "#<<<<<<<<<<<<<<<<<<<<<<<<<<<<<<<<<<<<<<<<<<<<<<<<<<<<<<<<<<<<<<<<"
   ]
  },
  {
   "cell_type": "code",
   "execution_count": 19,
   "id": "502c94ba",
   "metadata": {},
   "outputs": [
    {
     "data": {
      "text/plain": [
       "['Mitha', 'Praja', 'Utik']"
      ]
     },
     "execution_count": 19,
     "metadata": {},
     "output_type": "execute_result"
    }
   ],
   "source": [
    "#Pada list 2 dimensi tipe data string dapat dilakukan pula pemanggilan elemen-elemen dari baris tertentu\n",
    "nama_teman [2]\n",
    "\n",
    "#akan dicetak elemen dari baris ke-2"
   ]
  },
  {
   "cell_type": "code",
   "execution_count": 21,
   "id": "2afc70b5",
   "metadata": {},
   "outputs": [
    {
     "data": {
      "text/plain": [
       "'Adina'"
      ]
     },
     "execution_count": 21,
     "metadata": {},
     "output_type": "execute_result"
    }
   ],
   "source": [
    "#Dapat pula dilakukan pemanggilan elemen dari baris dan kolom tertentu\n",
    "nama_teman [1][0]\n",
    "\n",
    "#akan dicetak elemen dari baris ke-1 kolom ke-0"
   ]
  },
  {
   "cell_type": "code",
   "execution_count": 22,
   "id": "c0a8cd12",
   "metadata": {},
   "outputs": [
    {
     "name": "stdout",
     "output_type": "stream",
     "text": [
      "Suta\n"
     ]
    }
   ],
   "source": [
    "#Dapat pula mengganti salah satu elemen dalam list 2 dimensi\n",
    "nama_teman [1][3] = 'Suta'\n",
    "print (nama_teman [1][3])"
   ]
  },
  {
   "cell_type": "code",
   "execution_count": 23,
   "id": "75e52808",
   "metadata": {},
   "outputs": [
    {
     "data": {
      "text/plain": [
       "[['Eka', 'Gek Ayu', 'Gita', 'Kendran'],\n",
       " ['Adina', 'Leo', 'Atmaja', 'Suta', 'Rika'],\n",
       " ['Mitha', 'Praja', 'Utik']]"
      ]
     },
     "execution_count": 23,
     "metadata": {},
     "output_type": "execute_result"
    }
   ],
   "source": [
    "#panggil kembali variabel nama_teman\n",
    "nama_teman\n",
    "#Output yang dihasilkan adalah elemen dari baris ke-1 dan kolom ke-3 yaitu 'Indry' akan berubah menjadi 'Suta'"
   ]
  },
  {
   "cell_type": "markdown",
   "id": "da7b7af1",
   "metadata": {},
   "source": [
    "# 5.17 Tuples"
   ]
  },
  {
   "cell_type": "markdown",
   "id": "28bf714b",
   "metadata": {},
   "source": [
    "Tuples mirip dengan list, akan tetapi tuples tidak dapat dirubah isinya. Jika kita memiliki data yang tidak ingin dirubah isinya, kita gunakan tuples, sedangkan jika datanya masih ingin dimanipulasi kedepannya, gunakan list."
   ]
  },
  {
   "cell_type": "code",
   "execution_count": 25,
   "id": "ef8e17f4",
   "metadata": {},
   "outputs": [],
   "source": [
    "#============================================================\n",
    "#Latihan mengenai tuples\n",
    "#============================================================\n",
    "\n",
    "#dideklarasikan suatu variabel bilangan dengan elemen-elemen sebagai berikut\n",
    "bilangan = (1, 3, 5, 7, 9, 11)"
   ]
  },
  {
   "cell_type": "code",
   "execution_count": 28,
   "id": "da8d6df0",
   "metadata": {},
   "outputs": [
    {
     "name": "stdout",
     "output_type": "stream",
     "text": [
      "9\n"
     ]
    }
   ],
   "source": [
    "#============================================================\n",
    "#Latihan mengenai tuples\n",
    "#Mencetak anggota dengan index tertentu dalam tuples\n",
    "#============================================================\n",
    "\n",
    "print (bilangan [4])\n",
    "#angka [4] mengartikan index ke-4 dari anggota variabel 'bilangan' yang ingin dicetak\n",
    "\n",
    "#<<<<<<<<<<<<<<<<<<<<<<<<<<<<<<<<<<<<<<<<<<<<<<<<<<<<<<<<<<<<<<<<<<<<<<<<<<<<<<<<<<<<<<<<<<<<<<<\n",
    "#Output yang dihasilkan adalah elemen dari variabel bilangan index ke-4\n",
    "#<<<<<<<<<<<<<<<<<<<<<<<<<<<<<<<<<<<<<<<<<<<<<<<<<<<<<<<<<<<<<<<<<<<<<<<<<<<<<<<<<<<<<<<<<<<<<<<<"
   ]
  },
  {
   "cell_type": "code",
   "execution_count": 29,
   "id": "71fdae7b",
   "metadata": {},
   "outputs": [
    {
     "name": "stdout",
     "output_type": "stream",
     "text": [
      "(3, 5)\n"
     ]
    }
   ],
   "source": [
    "#============================================================\n",
    "#Mencetak anggota dengan index tertentu dalam tuples\n",
    "#============================================================\n",
    "\n",
    "print (bilangan [1 : 3])\n",
    "\n",
    "#angka sebelum : yaitu 1 berarti dimulainya indeks yang akan dicetak yaitu indeks ke 1\n",
    "# angka setelah : yaitu 3 berarti angka berakhirnya dari angka yang akan dicetak. Namun, indeks ke-3 tidak akan dicetak dalam output\n",
    "#<<<<<<<<<<<<<<<<<<<<<<<<<<<<<<<<<<<<<<<<<<<<<<<<<<<<<<<<<<<<<<<<<<<<<<<<<<<<<<<<<<<<<<<<<<<<<<<<<<<<<\n",
    "#Output yang dihasilkan adalah elemen dari variabel bilangan index ke-1 sampai dengan angka  sebelum indeks ke-3\n",
    "#<<<<<<<<<<<<<<<<<<<<<<<<<<<<<<<<<<<<<<<<<<<<<<<<<<<<<<<<<<<<<<<<<<<<<<<<<<<<<<<<<<<<<<<<<<<<<<<<<<<<<"
   ]
  },
  {
   "cell_type": "code",
   "execution_count": 31,
   "id": "ea939959",
   "metadata": {},
   "outputs": [
    {
     "name": "stdout",
     "output_type": "stream",
     "text": [
      "3\n",
      "5\n"
     ]
    }
   ],
   "source": [
    "#=======================================================================================\n",
    "#Latihan mengenai tuples\n",
    "#Mencetak anggota dengan index tertentu dalam tuples dengan menggunakan fungsi 'for'\n",
    "#======================================================================================\n",
    "\n",
    "for prima in bilangan [1:3] :\n",
    "    print (prima)"
   ]
  },
  {
   "cell_type": "code",
   "execution_count": 32,
   "id": "9340174c",
   "metadata": {},
   "outputs": [
    {
     "ename": "TypeError",
     "evalue": "'tuple' object does not support item assignment",
     "output_type": "error",
     "traceback": [
      "\u001b[1;31m---------------------------------------------------------------------------\u001b[0m",
      "\u001b[1;31mTypeError\u001b[0m                                 Traceback (most recent call last)",
      "\u001b[1;32m~\\AppData\\Local\\Temp\\ipykernel_31664\\3349401090.py\u001b[0m in \u001b[0;36m<module>\u001b[1;34m\u001b[0m\n\u001b[0;32m      4\u001b[0m \u001b[1;31m#Apabila elemen dalam tuples diganti,akan menghasilkan error\u001b[0m\u001b[1;33m\u001b[0m\u001b[1;33m\u001b[0m\u001b[0m\n\u001b[0;32m      5\u001b[0m \u001b[1;31m#============================================================\u001b[0m\u001b[1;33m\u001b[0m\u001b[1;33m\u001b[0m\u001b[0m\n\u001b[1;32m----> 6\u001b[1;33m \u001b[0mbilangan\u001b[0m \u001b[1;33m[\u001b[0m\u001b[1;36m0\u001b[0m\u001b[1;33m]\u001b[0m \u001b[1;33m=\u001b[0m \u001b[1;36m8\u001b[0m\u001b[1;33m\u001b[0m\u001b[1;33m\u001b[0m\u001b[0m\n\u001b[0m\u001b[0;32m      7\u001b[0m \u001b[1;33m\u001b[0m\u001b[0m\n\u001b[0;32m      8\u001b[0m \u001b[1;31m#<<<<<<<<<<<<<<<<<<<<<<<<<<<<<<<<<<<<<<<<<<<<<<<<<<<<<<<<<<<<<<<<<<<<<<<<<<<<<<<<<<<<<<<<<<<<<<<<<<<<<\u001b[0m\u001b[1;33m\u001b[0m\u001b[1;33m\u001b[0m\u001b[0m\n",
      "\u001b[1;31mTypeError\u001b[0m: 'tuple' object does not support item assignment"
     ]
    }
   ],
   "source": [
    "#============================================================\n",
    "#Latihan mengenai tuple\n",
    "#Tuples tidak bisa diganti\n",
    "#Apabila elemen dalam tuples diganti,akan menghasilkan error\n",
    "#============================================================\n",
    "bilangan [0] = 8\n",
    "\n",
    "#<<<<<<<<<<<<<<<<<<<<<<<<<<<<<<<<<<<<<<<<<<<<<<<<<<<<<<<<<<<<<<<<<<<<<<<<<<<<<<<<<<<<<<<<<<<<<<<<<<<<<\n",
    "#Output yang dihasilkan adalah error karena tuples tidak bisa diganti\n",
    "#agar bisa diganti gunakan list\n",
    "#<<<<<<<<<<<<<<<<<<<<<<<<<<<<<<<<<<<<<<<<<<<<<<<<<<<<<<<<<<<<<<<<<<<<<<<<<<<<<<<<<<<<<<<<<<<<<<<<<<<<<"
   ]
  },
  {
   "cell_type": "code",
   "execution_count": 33,
   "id": "270159a7",
   "metadata": {},
   "outputs": [
    {
     "data": {
      "text/plain": [
       "1"
      ]
     },
     "execution_count": 33,
     "metadata": {},
     "output_type": "execute_result"
    }
   ],
   "source": [
    "#============================================================\n",
    "#Latihan mengenai tuple\n",
    "#Menghitung banyaknya suatu anggota yang sama dalam tuples\n",
    "#============================================================\n",
    "\n",
    "#dengan menggunakan \".count\" kita dapat menghitung banyaknya suatu bilangan dalam variabel tuples\n",
    "bilangan.count (5)\n",
    "#disini kita ingin mengetahui banyaknya bilangan 5 dalam variabel \"bilangan\"\n",
    "\n"
   ]
  },
  {
   "cell_type": "code",
   "execution_count": 34,
   "id": "93973187",
   "metadata": {},
   "outputs": [
    {
     "data": {
      "text/plain": [
       "2"
      ]
     },
     "execution_count": 34,
     "metadata": {},
     "output_type": "execute_result"
    }
   ],
   "source": [
    "#============================================================\n",
    "#Latihan mengenai tuple\n",
    "#Mengetahui letak indeks suatu elemen dalam tuples\n",
    "#============================================================\n",
    "\n",
    "#dengan menggunakan \".index\" kita dapat mengetahui indeks dan letak suatu elemen dalam variabel tuples\n",
    "bilangan.index(5)\n",
    "#kita ingin mengetahui angka 5 terletak pada indeks berapa pada variabel bilangan"
   ]
  },
  {
   "cell_type": "markdown",
   "id": "5fbb7d8c",
   "metadata": {},
   "source": [
    "# 5.18 Dictionaries"
   ]
  },
  {
   "cell_type": "markdown",
   "id": "9d0c90cb",
   "metadata": {},
   "source": [
    "Dictionaries digunakan jika data nya terkait satu sama lain. Misalnya data seseorang yang terdiri dari umur, nama, tanggal lahir merupakan satu kesatuan data yang bersumber dari orang tersebut."
   ]
  },
  {
   "cell_type": "code",
   "execution_count": 35,
   "id": "ca397a8e",
   "metadata": {},
   "outputs": [],
   "source": [
    "#============================================================\n",
    "#Latihan mengenai Dictionaries\n",
    "#Mendeklarasikan suatu data\n",
    "#============================================================\n",
    "\n",
    "#Dideklarasikan suatu variabel bernama \"data_saya\" yang berisi data yang terkait dengan satu sama lain\n",
    "data_saya = {\n",
    "    \"Nama\" : \"Eka Martini\",\n",
    "    \"Usia\" : 19,\n",
    "    \"Apakah_mahasiswa\" : False,\n",
    "    \"Apakah_hindu\" : True,\n",
    "}"
   ]
  },
  {
   "cell_type": "code",
   "execution_count": null,
   "id": "15f34e57",
   "metadata": {},
   "outputs": [],
   "source": [
    "#============================================================\n",
    "#Latihan mengenai Dictionaries\n",
    "#Menampilkan nilai yang terdapat pada dictionaries\n",
    "#============================================================\n",
    "\n",
    "print (data_saya ['Nama'])\n",
    "#Kode akan mengambil nilai dari karakter 'Nama' dalam variabel. Kemudian, nilai tersebut akan dicetak dengan menggunakan perintah print\n",
    "\n",
    "#<<<<<<<<<<<<<<<<<<<<<<<<<<<<<<<<<<<<<<<<<<<<<<<<<<<<<<<<<<<<<<<<<<<<<<<<<<<<<<<<<<<<<<<<<<<<<<<<<<<<<\n",
    "#Output yang dihasilkan adalah string \"Eka Martini\"\n",
    "#karena nilai dari karakter 'Nama' adalah \"Eka Martini\"\n",
    "#<<<<<<<<<<<<<<<<<<<<<<<<<<<<<<<<<<<<<<<<<<<<<<<<<<<<<<<<<<<<<<<<<<<<<<<<<<<<<<<<<<<<<<<<<<<<<<<<<<<<<"
   ]
  },
  {
   "cell_type": "code",
   "execution_count": 36,
   "id": "6c511c21",
   "metadata": {},
   "outputs": [
    {
     "ename": "KeyError",
     "evalue": "'nama'",
     "output_type": "error",
     "traceback": [
      "\u001b[1;31m---------------------------------------------------------------------------\u001b[0m",
      "\u001b[1;31mKeyError\u001b[0m                                  Traceback (most recent call last)",
      "\u001b[1;32m~\\AppData\\Local\\Temp\\ipykernel_31664\\151947675.py\u001b[0m in \u001b[0;36m<module>\u001b[1;34m\u001b[0m\n\u001b[1;32m----> 1\u001b[1;33m \u001b[0mprint\u001b[0m \u001b[1;33m(\u001b[0m\u001b[0mdata_saya\u001b[0m \u001b[1;33m[\u001b[0m\u001b[1;34m'nama'\u001b[0m\u001b[1;33m]\u001b[0m\u001b[1;33m)\u001b[0m\u001b[1;33m\u001b[0m\u001b[1;33m\u001b[0m\u001b[0m\n\u001b[0m\u001b[0;32m      2\u001b[0m \u001b[1;31m#Kode ini akan menghasilkan error karena dalam variabel data_saya tidak terdapat karakter 'nama'\u001b[0m\u001b[1;33m\u001b[0m\u001b[1;33m\u001b[0m\u001b[0m\n",
      "\u001b[1;31mKeyError\u001b[0m: 'nama'"
     ]
    }
   ],
   "source": [
    "print (data_saya ['nama'])\n",
    "#Kode ini akan menghasilkan error karena dalam variabel data_saya tidak terdapat karakter 'nama'"
   ]
  },
  {
   "cell_type": "code",
   "execution_count": 37,
   "id": "c83c2617",
   "metadata": {},
   "outputs": [
    {
     "name": "stdout",
     "output_type": "stream",
     "text": [
      "Eka Martini\n"
     ]
    }
   ],
   "source": [
    "#============================================================\n",
    "#Latihan mengenai Dictionaries\n",
    "#Menggunakan method 'get'\n",
    "#Metode get digunakan untuk mengambil nilai dari sebuah kata kunci dalam dictionary\n",
    "#============================================================\n",
    "\n",
    "print (data_saya.get('Nama'))\n",
    "#Kita ingin menampilkan nilai dari 'Nama' yang terdapat dalam dictionaries variabel data_saya.\n",
    "\n",
    "#<<<<<<<<<<<<<<<<<<<<<<<<<<<<<<<<<<<<<<<<<<<<<<<<<<<<<<<<<<<<<<<<<<<<<<<<<<<<<<<<<<<<<<<<<<<<<<<<<<<<<\n",
    "#Output yang dihasilkan adalah string \"Eka Martini\"\n",
    "#karena nilai dari karakter kata kunci 'Nama' adalah \"Eka Martini\"\n",
    "#<<<<<<<<<<<<<<<<<<<<<<<<<<<<<<<<<<<<<<<<<<<<<<<<<<<<<<<<<<<<<<<<<<<"
   ]
  },
  {
   "cell_type": "code",
   "execution_count": null,
   "id": "934b78b2",
   "metadata": {},
   "outputs": [],
   "source": [
    "#============================================================\n",
    "#Latihan mengenai Dictionaries\n",
    "#Menggunakan method 'get'\n",
    "#============================================================\n",
    "#Dalam metode get, jika kata kunci tidak ditemukan, maka tidak akan menghasilkan error\n",
    "#Namun, akan menghasilkan nilai default yang disebut 'None'\n",
    "\n",
    "print (data_saya.get ('tanggal_lahir'))\n",
    "\n",
    "#<<<<<<<<<<<<<<<<<<<<<<<<<<<<<<<<<<<<<<<<<<<<<<<<<<<<<<<<<<<<<<<<<<<<<<<<<<<<<<<<<<<<<<<<<<<<<<<<<<<<<<<<<<<<<<<<<<<<<<<<<<<<<<<<<<<\n",
    "#Output yang dihasilkan adalah nilai default (None) karena kata kunci tanggal lahir tidak ada dalam dictionaries variabel data_saya\n",
    "#<<<<<<<<<<<<<<<<<<<<<<<<<<<<<<<<<<<<<<<<<<<<<<<<<<<<<<<<<<<<<<<<<<<<<<<<<<<<<<<<<<<<<<<<<<<<<<<<<<<<<<<<<<<<<<<<<<<<<<<<<<<<<<<<<<<\n"
   ]
  },
  {
   "cell_type": "code",
   "execution_count": 38,
   "id": "de0fddbf",
   "metadata": {},
   "outputs": [],
   "source": [
    "#============================================================\n",
    "#Latihan mengenai Dictionaries\n",
    "#Menambahkan kata kunci baru dalam dictionaries\n",
    "#============================================================\n",
    "\n",
    "data_saya ['Line'] = 'ekamartini23'\n",
    "#Kode diatas akan menambahkan nilai dari kata kunci baru pada dictionaries data_saya\n"
   ]
  },
  {
   "cell_type": "code",
   "execution_count": 39,
   "id": "6ba689b0",
   "metadata": {},
   "outputs": [
    {
     "name": "stdout",
     "output_type": "stream",
     "text": [
      "{'Nama': 'Eka Martini', 'Usia': 19, 'Apakah_mahasiswa': False, 'Apakah_hindu': True, 'Line': 'ekamartini23'}\n"
     ]
    }
   ],
   "source": [
    "#Apabila kita print atau cetak kembali variabel data saya, maka akan menambah nilai dari kata kunci dalam dictionaries\n",
    "print (data_saya)"
   ]
  },
  {
   "cell_type": "markdown",
   "id": "047b448b",
   "metadata": {},
   "source": [
    "#### Program menggunakan DIctionaries"
   ]
  },
  {
   "cell_type": "code",
   "execution_count": 49,
   "id": "0f0d5360",
   "metadata": {},
   "outputs": [
    {
     "name": "stdout",
     "output_type": "stream",
     "text": [
      "Masukkan Nama Anda: Eka\n",
      "Masukkan Usia Anda: 19\n",
      "Masukkan Pekerjaan Anda: Mahasiswa\n",
      "Data Anda:\n",
      "Nama: Eka\n",
      "Usia: 19\n",
      "Pekerjaan: Mahasiswa\n"
     ]
    }
   ],
   "source": [
    "# Minta input dari pengguna\n",
    "nama = input(\"Masukkan Nama Anda: \")\n",
    "usia = int(input(\"Masukkan Usia Anda: \")) #input usia diubah menjadi tipe data integer\n",
    "pekerjaan = input(\"Masukkan Pekerjaan Anda: \")\n",
    "#digunakan perintah 'input'\n",
    "\n",
    "# Buat dictionary dari data pengguna\n",
    "data_orang = {\n",
    "    \"Nama\": nama,\n",
    "    \"Usia\": usia,\n",
    "    \"Pekerjaan\": pekerjaan\n",
    "}\n",
    "#setelah mendapatkan input dari user, dibuat sebuah dictionary dengan kata kunci yang disesuaikan \n",
    "\n",
    "# Tampilkan data pengguna\n",
    "print(\"Data Anda:\")\n",
    "for key, value in data_orang.items():\n",
    "    print(key + \":\", value)\n",
    "    \n",
    "#digunakan for loop dan fungsi items pada dictionary\n",
    "#setiap nilai kata kunci akan ditampilkan dengan menggunakan perintah print\n"
   ]
  },
  {
   "cell_type": "markdown",
   "id": "1634c68a",
   "metadata": {},
   "source": [
    "# 5.19 Fungsi dalam Python"
   ]
  },
  {
   "cell_type": "markdown",
   "id": "70022931",
   "metadata": {},
   "source": [
    "Pada dasarnya fungsi dibentuk untuk menghidari pengulangan pembuatan program secara manual dimana fungsi tersebut memiliki pengulangan yang tinggi dalam program yang\n",
    "kita buat. Jadi untuk mempermudah dan meringkas program yang kita buat, setiap fungsi tersebut dibutuhkan tinggal kita panggil."
   ]
  },
  {
   "cell_type": "code",
   "execution_count": 2,
   "id": "dee77c61",
   "metadata": {},
   "outputs": [],
   "source": [
    "#============================================================\n",
    "#Latihan mengenai Fungsi dalam Python\n",
    "#============================================================\n",
    "#Berikut merupakan sebuah fungsi Python yang menerima 2 parameter yaitu first name dan last name serta akan mencetak nama lengkap dari kedua variabel tersebut\n",
    "\n",
    "def full_name(first_name,last_name) :\n",
    "#didefinisikan sebuah fungsi full name yang menerima 2 parameter yaitu first_name dan last_name\n",
    "    print (\"Nama lengkap dia adalah\",first_name,last_name)\n",
    "#akan dicetak sebuah pesan yang terdiri dari string \"Nama lengkap dia adalah\" kemudian diikuti dengan kedua parameter first name dan last name tadi"
   ]
  },
  {
   "cell_type": "code",
   "execution_count": 4,
   "id": "19e43c73",
   "metadata": {},
   "outputs": [
    {
     "name": "stdout",
     "output_type": "stream",
     "text": [
      "Masukkan nama depan : Jerome\n",
      "Masukkan nama belakang : Polin\n",
      "Nama lengkap dia adalah Jerome Polin\n"
     ]
    }
   ],
   "source": [
    "#============================================================\n",
    "#Latihan mengenai Fungsi dalam Python\n",
    "#Memanggil fungsi yang telah didefisnisikan sebelumnya\n",
    "#============================================================\n",
    "first_name = input (\"Masukkan nama depan : \")\n",
    "#meminta user untuk memasukkan nama depan\n",
    "#kemudian, input tersebut akan disimpan dalam variabel first_name\n",
    "last_name = input (\"Masukkan nama belakang : \")\n",
    "#meminta user untuk memasukkan nama belakan\n",
    "#kemudian, input tersebut akan disimpan dalam variabel last_name\n",
    "full_name (first_name,last_name)\n",
    "#memanggil fungsi full_name dengan memberikan first name dan last_name sebagai argumen\n",
    "\n",
    "#<<<<<<<<<<<<<<<<<<<<<<<<<<<<<<<<<<<<<<<<<<<<<<<<<<<<<<<<<<<<<<<<<<<<<<<<<<<<<<<<<<<<<<<<<<<<<<<<<<<<<<<<<<<<<<<<<<<<<<<<<<<<<<<<<<<<<<<<<<<<<<<<<<<<<<<<<<<<<<<<<<<<<<<<<<<\n",
    "#Dengan memasukkan nama depan dan nama belakang user pada saat program di-run, fungsi full_name akan mencetak nama depan dan nama belakang yang telah dimasukkan oleh user\n",
    "#<<<<<<<<<<<<<<<<<<<<<<<<<<<<<<<<<<<<<<<<<<<<<<<<<<<<<<<<<<<<<<<<<<<<<<<<<<<<<<<<<<<<<<<<<<<<<<<<<<<<<<<<<<<<<<<<<<<<<<<<<<<<<<<<<<<<<<<<<<<<<<<<<<<<<<<<<<<<<<<<<<<<<<<<<<<\n"
   ]
  },
  {
   "cell_type": "markdown",
   "id": "7d1f6a2f",
   "metadata": {},
   "source": [
    "## 5.19.1 Tugas Fungsi dalam Python"
   ]
  },
  {
   "cell_type": "markdown",
   "id": "1ef1322c",
   "metadata": {},
   "source": [
    "Ada dua jenis tugas fungsi pada Python yaitu:\n",
    "- Menjalankan perintah.\n",
    "- Menampilkan hasil perhitungan"
   ]
  },
  {
   "cell_type": "code",
   "execution_count": 5,
   "id": "c233cd6f",
   "metadata": {},
   "outputs": [],
   "source": [
    "#============================================================\n",
    "#Latihan mengenai Tugas Fungsi dalam Python\n",
    "#============================================================\n",
    "\n",
    "def waktu_tempuh(jarak, kecepatan):\n",
    "#didefinisikan suatu variabel waktu_tempuh yang akan berisi jarak dan kecepatan\n",
    "    waktu_jam = jarak / kecepatan\n",
    "#dimasukkan rumus mencari waktu dengan satuan jam yaitu jarak dibagi dengan kecepatan\n",
    "    waktu_menit = waktu_jam * 60\n",
    "#Kemudian, akan dicari waktu tempuh dalam satuan menit dengan mengalikan waktu tempuh dalam jem dengan 60\n",
    "    print(\"Waktu tempuh adalah :\", waktu_menit, \"menit\")\n",
    "#Selanjutnya akan doi-print teks \"Waktu tempuh adalah : .... menit \"\n",
    "\n",
    "#<<<<<<<<<<<<<<<<<<<<<<<<<<<<<<<<<<<<<<<<<<<<<<<<<<<<<<<<<<<<<<<<<<<<<<<<<<<<<<<<<<<<<<<<<<<<<<<<<<<<<<<<<<<<<<<<<<<<<<<<<<<<<<<<<<<<<<<<<<<<<<<<<<<<<<<<<<<<<<<<<<<<<<<<<<<\n",
    "#Pada saat pemanggilan fungsi, jarak dan kecepatan disediakan sebagai argumen dan hasilnya akan langsung di-print\n",
    "#<<<<<<<<<<<<<<<<<<<<<<<<<<<<<<<<<<<<<<<<<<<<<<<<<<<<<<<<<<<<<<<<<<<<<<<<<<<<<<<<<<<<<<<<<<<<<<<<<<<<<<<<<<<<<<<<<<<<<<<<<<<<<<<<<<<<<<<<<<<<<<<<<<<<<<<<<<<<<<<<<<<<<<<<<<<\n"
   ]
  },
  {
   "cell_type": "code",
   "execution_count": 35,
   "id": "36da7b5f",
   "metadata": {},
   "outputs": [],
   "source": [
    "#didefinisikan waktu sampai yakni jarak dan kecepatan\n",
    "def waktu_sampai(jarak,kecepatan):\n",
    "  #didefinisikan untuk waktu yakni dengan rumus jarak dibagi kecepatan\n",
    "  waktu = jarak/kecepatan\n",
    "  #selanjutnya akan dikembalikan untuk nilai waktu menggunakan fungsi return\n",
    "  return waktu"
   ]
  },
  {
   "cell_type": "code",
   "execution_count": 6,
   "id": "33261973",
   "metadata": {},
   "outputs": [
    {
     "name": "stdout",
     "output_type": "stream",
     "text": [
      "Waktu tempuh adalah: 240.0 menit\n"
     ]
    }
   ],
   "source": [
    "#============================================================\n",
    "#Latihan mengenai Tugas Fungsi dalam Python\n",
    "#Pemanggilan fungsi\n",
    "#============================================================\n",
    "waktu_tempuh (80,20)\n",
    "#akan dipanggil fungsi waktu_tempuh dengan argumen 80 dan 20\n",
    "#selanjutnya fungsi akan menghitung waktu tempuh dengan membagi jarak 80 dengan kecepatan 20\n",
    "#setelah diperleh hasil yaitu 4, angka 4 akan diiterasi kembali dengan fungsi yaitu dengan dikalikan 60 untuk mendapatkan hasil dalam satuan menit\n",
    "#selanjutnya, hasilnya akan dicetak atau diprint ke layar yaitu 4*60 = 240,0"
   ]
  },
  {
   "cell_type": "code",
   "execution_count": 36,
   "id": "1a6dcc2f",
   "metadata": {},
   "outputs": [
    {
     "data": {
      "text/plain": [
       "4.0"
      ]
     },
     "execution_count": 36,
     "metadata": {},
     "output_type": "execute_result"
    }
   ],
   "source": [
    "waktu_sampai (80,20)\n",
    "#didefinisikan waktu sampai dengan jarak 80 dan kecepatan 20"
   ]
  },
  {
   "cell_type": "markdown",
   "id": "f341acc4",
   "metadata": {},
   "source": [
    "# 5.20 Numpy"
   ]
  },
  {
   "cell_type": "markdown",
   "id": "f2c77abd",
   "metadata": {},
   "source": [
    "Numpy merupakan salah satu Library dalam Python yang memiliki keunggulan dalam perhitungan menggunakan vektor dam matrik dalam berbagai dimensi."
   ]
  },
  {
   "cell_type": "code",
   "execution_count": 3,
   "id": "c27a1db3",
   "metadata": {},
   "outputs": [],
   "source": [
    "#============================================================\n",
    "#Latihan mengenai Numpy atau numeric Python\n",
    "#Pemanggilan library numpy\n",
    "#============================================================\n",
    "#Pemanggilan library NumPy dilakukan karena NumPy menyediakan berbagai fitur dan agar terbaca oleh sistem\n",
    "#berikut merupakan kode untuk pemanggilan library numpy\n",
    "import numpy as np"
   ]
  },
  {
   "cell_type": "markdown",
   "id": "950d2fd8",
   "metadata": {},
   "source": [
    "## 5.20.1 Perintah Dasar pada Numpy"
   ]
  },
  {
   "cell_type": "code",
   "execution_count": 5,
   "id": "1e5e27ed",
   "metadata": {},
   "outputs": [
    {
     "name": "stdout",
     "output_type": "stream",
     "text": [
      "[[ 1  2  3  4]\n",
      " [ 3  5  7  9]\n",
      " [ 0 -1 -2 -3]\n",
      " [10 15 20 25]]\n"
     ]
    }
   ],
   "source": [
    "#============================================================\n",
    "#Latihan mengenai Perintah Dasar pada Numpy atau numeric Python\n",
    "#============================================================\n",
    "\n",
    "#dideklarasikan sebuah data array dengan matriks berordo 4x4\n",
    "l = np.array ([[1,2,3,4], [3,5,7,9], [0,-1,-2,-3], [10,15,20,25]])\n",
    "#dilakukan dengan mengimpor library Numpy yang telah diinisialkan dengan 'np' \n",
    "#serta membuat array dengan fungsi \"np.array\" untuk disimpan dalam variabel l\n",
    "print (l)\n",
    "#dilakukan pencetakan variabel l yang memiliki 4 baris dan 4 kolom dan berisi angka-angka yang telah dideklarasikan"
   ]
  },
  {
   "cell_type": "code",
   "execution_count": 6,
   "id": "0481a705",
   "metadata": {},
   "outputs": [
    {
     "name": "stdout",
     "output_type": "stream",
     "text": [
      "[[9 8 7 6]\n",
      " [0 1 2 3]]\n"
     ]
    }
   ],
   "source": [
    "#dideklarasikan sebuah data array dengan matriks berordo 2x4\n",
    "m = np.array ([[9,8,7,6], [0,1,2,3]])\n",
    "print (m)"
   ]
  },
  {
   "cell_type": "code",
   "execution_count": 8,
   "id": "4a5da216",
   "metadata": {},
   "outputs": [
    {
     "name": "stdout",
     "output_type": "stream",
     "text": [
      "[[[0 2 4 6]\n",
      "  [2 3 4 5]]\n",
      "\n",
      " [[5 6 4 7]\n",
      "  [4 5 9 0]]\n",
      "\n",
      " [[1 8 9 5]\n",
      "  [1 4 6 9]]]\n"
     ]
    }
   ],
   "source": [
    "#============================================================\n",
    "#Latihan mengenai Numpy atau numeric Python\n",
    "#data matriks dengan menggunakan banyak kurung siku\n",
    "#============================================================\n",
    "n = np.array ([[[0,2,4,6], [2,3,4,5]],\n",
    "              [[5,6,4,7], [4,5,9,0]],\n",
    "              [[1,8,9,5], [1,4,6,9,]]])\n",
    "#akan membuat array 3 dimensi yang terdiri dari 3 sub\n",
    "#setiap sub akan memiliki 2 baris dan 4 kolom matriks \n",
    "#kemudian disimpan dalam variabel n\n",
    "print (n)\n",
    "#dilakukan pencetakan nilai-nilai n"
   ]
  },
  {
   "cell_type": "code",
   "execution_count": 9,
   "id": "5472e15c",
   "metadata": {},
   "outputs": [
    {
     "data": {
      "text/plain": [
       "2"
      ]
     },
     "execution_count": 9,
     "metadata": {},
     "output_type": "execute_result"
    }
   ],
   "source": [
    "#============================================================\n",
    "#Latihan mengenai Numpy atau numeric Python\n",
    "#fitur .ndim\n",
    "#============================================================\n",
    "l.ndim\n",
    "#digunakan untuk mengetahui jumlah dimensi dari sebuah array dalam Numpy\n",
    "#sehingga sistem akan mencetak dimensi matriks dari array tersebut"
   ]
  },
  {
   "cell_type": "code",
   "execution_count": 10,
   "id": "6bb0be8d",
   "metadata": {},
   "outputs": [
    {
     "data": {
      "text/plain": [
       "2"
      ]
     },
     "execution_count": 10,
     "metadata": {},
     "output_type": "execute_result"
    }
   ],
   "source": [
    "m.ndim"
   ]
  },
  {
   "cell_type": "code",
   "execution_count": 11,
   "id": "d27079b3",
   "metadata": {},
   "outputs": [
    {
     "data": {
      "text/plain": [
       "3"
      ]
     },
     "execution_count": 11,
     "metadata": {},
     "output_type": "execute_result"
    }
   ],
   "source": [
    "n.ndim"
   ]
  },
  {
   "cell_type": "code",
   "execution_count": 12,
   "id": "45a35614",
   "metadata": {},
   "outputs": [
    {
     "data": {
      "text/plain": [
       "(4, 4)"
      ]
     },
     "execution_count": 12,
     "metadata": {},
     "output_type": "execute_result"
    }
   ],
   "source": [
    "#============================================================\n",
    "#Latihan mengenai Numpy atau numeric Python\n",
    "#fitur .shape\n",
    "#============================================================\n",
    "l.shape\n",
    "#digunakan untuk mengetahui dimensi dari matris tersebut yang berisi banyaknya elemen dalam matris tersebut\n",
    "#pada kasus ini yang dicetak adalah (4,4) dimana array l memiliki 4 elemen di dimensi pertama dan 4 elemen pada dimensi kedua"
   ]
  },
  {
   "cell_type": "code",
   "execution_count": 13,
   "id": "0bb57d34",
   "metadata": {},
   "outputs": [
    {
     "data": {
      "text/plain": [
       "(2, 4)"
      ]
     },
     "execution_count": 13,
     "metadata": {},
     "output_type": "execute_result"
    }
   ],
   "source": [
    "m.shape"
   ]
  },
  {
   "cell_type": "code",
   "execution_count": 14,
   "id": "89667e7e",
   "metadata": {},
   "outputs": [
    {
     "data": {
      "text/plain": [
       "(3, 2, 4)"
      ]
     },
     "execution_count": 14,
     "metadata": {},
     "output_type": "execute_result"
    }
   ],
   "source": [
    "n.shape"
   ]
  },
  {
   "cell_type": "markdown",
   "id": "7a04f86d",
   "metadata": {},
   "source": [
    "## 5.20.2 Memanggil Anggota, Kolom, dan Baris dengan Numpy"
   ]
  },
  {
   "cell_type": "code",
   "execution_count": 3,
   "id": "25a9b698",
   "metadata": {},
   "outputs": [],
   "source": [
    "import numpy as np"
   ]
  },
  {
   "cell_type": "code",
   "execution_count": 4,
   "id": "0a352124",
   "metadata": {},
   "outputs": [
    {
     "name": "stdout",
     "output_type": "stream",
     "text": [
      "[[ 1  2  3  4]\n",
      " [ 3  5  7  9]\n",
      " [ 0 -1 -2 -3]\n",
      " [10 15 20 25]]\n"
     ]
    }
   ],
   "source": [
    "#============================================================\n",
    "#Latihan mengenai Memanggil Anggota, Kolom, dan Baris dengan Numpy atau numeric Python\n",
    "#============================================================\n",
    "#dideklarasikan sebuah data array dengan matriks berordo 4x4\n",
    "l = np.array ([[1,2,3,4], [3,5,7,9], [0,-1,-2,-3], [10,15,20,25]])\n",
    "#dilakukan dengan mengimpor library Numpy yang telah diinisialkan dengan 'np' \n",
    "#serta membuat array dengan fungsi \"np.array\" untuk disimpan dalam variabel l\n",
    "print (l)"
   ]
  },
  {
   "cell_type": "code",
   "execution_count": 7,
   "id": "7fc49a50",
   "metadata": {},
   "outputs": [
    {
     "data": {
      "text/plain": [
       "9"
      ]
     },
     "execution_count": 7,
     "metadata": {},
     "output_type": "execute_result"
    }
   ],
   "source": [
    "#============================================================\n",
    "#Latihan mengenai Memanggil Anggota, Kolom, dan Baris dengan Numpy atau numeric Python\n",
    "#Mengambil elemen dari suatu matriks (1)\n",
    "#============================================================\n",
    "l [1,3]\n",
    "#Kode ini akan menghasilkan output elemen dari bari ke 1 dan kolom ke-3 pada matriks\n",
    "#angka 1 melambngkan baris, dan angka 3 melambangkan kolom"
   ]
  },
  {
   "cell_type": "code",
   "execution_count": 8,
   "id": "699e4b80",
   "metadata": {},
   "outputs": [
    {
     "data": {
      "text/plain": [
       "array([3, 5, 7, 9])"
      ]
     },
     "execution_count": 8,
     "metadata": {},
     "output_type": "execute_result"
    }
   ],
   "source": [
    "#============================================================\n",
    "#Latihan mengenai Memanggil Anggota, Kolom, dan Baris dengan Numpy atau numeric Python\n",
    "#Mengambil elemen dari suatu matriks (2)\n",
    "#============================================================\n",
    "l [1, :]\n",
    "#Kode ini akan mengambil semua elemen yang berada pada baris ke-1\\\n",
    "# ':' digunakan untuk menunjukkan bahwa ingin mengambil seluruh elemen dari baris ke-1"
   ]
  },
  {
   "cell_type": "code",
   "execution_count": 10,
   "id": "719f637f",
   "metadata": {},
   "outputs": [
    {
     "data": {
      "text/plain": [
       "array([ 4,  9, -3, 25])"
      ]
     },
     "execution_count": 10,
     "metadata": {},
     "output_type": "execute_result"
    }
   ],
   "source": [
    "#============================================================\n",
    "#Latihan mengenai Memanggil Anggota, Kolom, dan Baris dengan Numpy atau numeric Python\n",
    "#Mengambil elemen dari suatu matriks (3)\n",
    "#============================================================\n",
    "l[:,3]\n",
    "#Kode ini akan mengambil semua elemen pada kolom ke-3\n",
    "# ':' digunakan untuk menunjukkan bahwa kita kanan mengambil semua elemen pada kolom ke-3"
   ]
  },
  {
   "cell_type": "code",
   "execution_count": 11,
   "id": "3e661e92",
   "metadata": {},
   "outputs": [
    {
     "data": {
      "text/plain": [
       "array([2, 3])"
      ]
     },
     "execution_count": 11,
     "metadata": {},
     "output_type": "execute_result"
    }
   ],
   "source": [
    "#============================================================\n",
    "#Latihan mengenai Memanggil Anggota, Kolom, dan Baris dengan Numpy atau numeric Python\n",
    "#Mengambil elemen dari suatu matriks (4)\n",
    "#============================================================\n",
    "l[0, 1 : 3]\n",
    "#Kode ini akan memberikan output berupa elemen pada baris ke 0 dan kolom ke-1 hingga kolom ke-2 pada matriks\n",
    "# 0 menunjukkan baris\n",
    "# 1 : 3 menunjukkan indeks dari elemen matriks yang akan diambil"
   ]
  },
  {
   "cell_type": "markdown",
   "id": "cedc9bad",
   "metadata": {},
   "source": [
    "## 5.20.3 Matriks pada Numpy"
   ]
  },
  {
   "cell_type": "code",
   "execution_count": 1,
   "id": "c66d1e2d",
   "metadata": {},
   "outputs": [],
   "source": [
    "import numpy as np"
   ]
  },
  {
   "cell_type": "code",
   "execution_count": 2,
   "id": "18ee4656",
   "metadata": {},
   "outputs": [
    {
     "data": {
      "text/plain": [
       "array([[1., 1., 1.],\n",
       "       [1., 1., 1.]])"
      ]
     },
     "execution_count": 2,
     "metadata": {},
     "output_type": "execute_result"
    }
   ],
   "source": [
    "#============================================================\n",
    "#Latihan mengenai Matriks pada Numpy\n",
    "#Fungsi .ones\n",
    "#============================================================\n",
    "\n",
    "#Akan dibuat matriks dengan ukuran 2 baris dan 3 kolom dimana semua elemennya adalah 1\n",
    "np.ones ((2,3))\n",
    "#fungsi (.ones) ini digunakan untuk memmbuat matriks berordo tertentu dengan semua elemennya memiliki nilai 1\n",
    "# 2 menunjukkan baris\n",
    "# 3 menunjukkan kolom"
   ]
  },
  {
   "cell_type": "code",
   "execution_count": 6,
   "id": "e4e1dcbd",
   "metadata": {},
   "outputs": [
    {
     "data": {
      "text/plain": [
       "array([[[1., 1., 1., 1., 1.],\n",
       "        [1., 1., 1., 1., 1.],\n",
       "        [1., 1., 1., 1., 1.],\n",
       "        [1., 1., 1., 1., 1.]],\n",
       "\n",
       "       [[1., 1., 1., 1., 1.],\n",
       "        [1., 1., 1., 1., 1.],\n",
       "        [1., 1., 1., 1., 1.],\n",
       "        [1., 1., 1., 1., 1.]]])"
      ]
     },
     "execution_count": 6,
     "metadata": {},
     "output_type": "execute_result"
    }
   ],
   "source": [
    "#============================================================\n",
    "#Latihan mengenai Matriks pada Numpy\n",
    "#Fungsi .ones (2)\n",
    "#============================================================\n",
    "np.ones ((2,4,5))\n",
    "#kode ini akan membuat matriks 2 blok dengan masing-masing blok memiliki 4 baris dan 5 kolom serta semua elemenya bernilai 1"
   ]
  },
  {
   "cell_type": "code",
   "execution_count": 4,
   "id": "53d86984",
   "metadata": {},
   "outputs": [
    {
     "data": {
      "text/plain": [
       "array([[0., 0.],\n",
       "       [0., 0.],\n",
       "       [0., 0.]])"
      ]
     },
     "execution_count": 4,
     "metadata": {},
     "output_type": "execute_result"
    }
   ],
   "source": [
    "#============================================================\n",
    "#Latihan mengenai Matriks pada Numpy\n",
    "#Fungsi .zeros\n",
    "#============================================================\n",
    "\n",
    "#Akan dibuat matriks dengan ukuran 3 baris dan 2 kolom dimana semya elemennya adalah 0\n",
    "np.zeros((3,2))\n",
    "#fungsi (.zeros) ini digunakan untuk memmbuat matriks berordo tertentu dengan semua elemennya memiliki nilai 0\n",
    "# 3 menunjukkan baris\n",
    "# 2 menunjukkan kolom"
   ]
  },
  {
   "cell_type": "code",
   "execution_count": 28,
   "id": "150acdaa",
   "metadata": {},
   "outputs": [
    {
     "data": {
      "text/plain": [
       "array([[1., 0., 0., 0.],\n",
       "       [0., 1., 0., 0.],\n",
       "       [0., 0., 1., 0.],\n",
       "       [0., 0., 0., 1.]])"
      ]
     },
     "execution_count": 28,
     "metadata": {},
     "output_type": "execute_result"
    }
   ],
   "source": [
    "#============================================================\n",
    "#Latihan mengenai Matriks pada Numpy\n",
    "#Fungsi .identity\n",
    "#============================================================\n",
    "np.identity(4)\n",
    "#Fungsi .identity digunakan untuk membuat sebuah matriks identitas \n",
    "#matriks identitas adalah matriks dimans semua elemen di diagonal utamanya adalah 1 sedangkan elemen lainnya bernilai 0"
   ]
  },
  {
   "cell_type": "code",
   "execution_count": 29,
   "id": "a399bc68",
   "metadata": {},
   "outputs": [
    {
     "data": {
      "text/plain": [
       "array([[9, 9],\n",
       "       [9, 9],\n",
       "       [9, 9]])"
      ]
     },
     "execution_count": 29,
     "metadata": {},
     "output_type": "execute_result"
    }
   ],
   "source": [
    "#============================================================\n",
    "#Latihan mengenai Matriks pada Numpy\n",
    "#Fungsi .full\n",
    "#============================================================\n",
    "\n",
    "#Fungsi (.full) digunakan untuk membuat sebuah matriks dengan ukuran tertentu \n",
    "#semua elemen dalam matriks telah ditentukan melalui kode tersebut\n",
    "np.full ((3,2),9)\n",
    "#kode diatas akan menghasilkan matriks dengan ordo 3x2 dengan semua elemenya bernilai 9\n"
   ]
  },
  {
   "cell_type": "code",
   "execution_count": 9,
   "id": "5afcee17",
   "metadata": {},
   "outputs": [
    {
     "data": {
      "text/plain": [
       "array([[0.12637989, 0.42815669, 0.7542596 ],\n",
       "       [0.89315251, 0.30008057, 0.41764903],\n",
       "       [0.95077182, 0.16332082, 0.53637502],\n",
       "       [0.28718985, 0.92161575, 0.15110081]])"
      ]
     },
     "execution_count": 9,
     "metadata": {},
     "output_type": "execute_result"
    }
   ],
   "source": [
    "#============================================================\n",
    "#Latihan mengenai Matriks pada Numpy\n",
    "#Fungsi .random.rand\n",
    "#============================================================\n",
    "\n",
    "#fungsi (.random.rand) digunakan untuk menghasilkan nilai acak dengan distribusi yang seragam antara 0 sampai 1\n",
    "np.random.rand (4,3)\n",
    "#kode diatas akan menghasilkan matriks 2 dimensi dengan ordo 4x3 dimana elemennya adalah nilai acak yang terdistribusi seragam antara 0 samapi 1"
   ]
  },
  {
   "cell_type": "code",
   "execution_count": 10,
   "id": "b13786a2",
   "metadata": {},
   "outputs": [
    {
     "data": {
      "text/plain": [
       "array([[4, 3, 1, 8],\n",
       "       [7, 6, 9, 6],\n",
       "       [6, 3, 7, 9]])"
      ]
     },
     "execution_count": 10,
     "metadata": {},
     "output_type": "execute_result"
    }
   ],
   "source": [
    "#============================================================\n",
    "#Latihan mengenai Matriks pada Numpy\n",
    "#Fungsi .random.randint dengan size\n",
    "#============================================================\n",
    "\n",
    "#fungsi (.random.randint) digunakan untuk menghasilkan matriks dengan elemennya adalah nilai acak di antara 2 nilai yang telah ditentukan\n",
    "np.random.randint (1,10,size = (3,4))\n",
    "#telah ditentukan batas bawah adalah 1 dan batas atasnya adalah 0\n",
    "#ukuran dari matriks adalah 3x4\n",
    "#elemen-elemen yang akan menjadi output adalah bilangan bulat antara 1-10 yang dijadikan matriks dan disusun acak"
   ]
  },
  {
   "cell_type": "markdown",
   "id": "fb25513f",
   "metadata": {},
   "source": [
    "## 5.20.4 Copy pada Numpy"
   ]
  },
  {
   "cell_type": "code",
   "execution_count": 11,
   "id": "8ef8a839",
   "metadata": {},
   "outputs": [],
   "source": [
    "import numpy as np"
   ]
  },
  {
   "cell_type": "code",
   "execution_count": 6,
   "id": "4e72bcb4",
   "metadata": {},
   "outputs": [
    {
     "name": "stdout",
     "output_type": "stream",
     "text": [
      "[1 2 3 4]\n"
     ]
    }
   ],
   "source": [
    "a = np.array([1,2,3,4])\n",
    "print (a)"
   ]
  },
  {
   "cell_type": "code",
   "execution_count": 9,
   "id": "fb757ff0",
   "metadata": {},
   "outputs": [
    {
     "name": "stdout",
     "output_type": "stream",
     "text": [
      "[1 2 3 4]\n"
     ]
    }
   ],
   "source": [
    "#============================================================\n",
    "#Latihan mengenai Copy pada Numpy\n",
    "#============================================================\n",
    "#pada python, ketika sebuah objek dimasukkan dalam variabel, variabel itu tidak akan menyimpan dari nilai objek tersebut. \n",
    "#melainkan hanya menunjuk memori dimana objek tersebut disimpan\n",
    "\n",
    "b = a\n",
    "#variabel b hanya menunjuk ke alamat memori yang sama dengan a sehingga variabel a dan b akan menunjuk dalam memori\n",
    "print (b)\n",
    "#dilakukan pencetakan dan hasil yang diberikan adalah elemen dari a dan b adalah sama"
   ]
  },
  {
   "cell_type": "code",
   "execution_count": 14,
   "id": "2dbc40a4",
   "metadata": {},
   "outputs": [
    {
     "name": "stdout",
     "output_type": "stream",
     "text": [
      "[10  2  3  4]\n"
     ]
    }
   ],
   "source": [
    "#============================================================\n",
    "#Latihan mengenai Copy pada Numpy\n",
    "#Mengubah elemen\n",
    "#============================================================\n",
    "b [0] = 10\n",
    "#Variabel b menunjuk pada elemen yang sama dengan variabel a.\n",
    "#kode ini akan merubah baris ke-0 dan kolom ke- 0 pada matriks dengan variabel b menjadi 10\n",
    "print (b)\n",
    "#dilakukan pencetakan matriks yang telah diubah\n"
   ]
  },
  {
   "cell_type": "code",
   "execution_count": 15,
   "id": "83631a25",
   "metadata": {},
   "outputs": [
    {
     "name": "stdout",
     "output_type": "stream",
     "text": [
      "[10  2  3  4]\n"
     ]
    }
   ],
   "source": [
    "#Perubahan diatas juga terlihat pada matriks yang berada di variabel a\n",
    "#Jika kita mencetak matriks a setelah mengubah elemen baris ke-0 dan kolomke-0 dari matriks b, maka elemen baris ke-0 dan kolom ke-0 dari a juga akan berubah menjadi 10\n",
    "print (a)"
   ]
  },
  {
   "cell_type": "code",
   "execution_count": 16,
   "id": "11d0ed3c",
   "metadata": {},
   "outputs": [
    {
     "name": "stdout",
     "output_type": "stream",
     "text": [
      "[1 2 3 4]\n"
     ]
    }
   ],
   "source": [
    "#dideklarasikan variabel baru dengan anggota sebagai berikut\n",
    "c = np.array ([1,2,3,4])\n",
    "print (c)"
   ]
  },
  {
   "cell_type": "code",
   "execution_count": 17,
   "id": "e364c5ed",
   "metadata": {},
   "outputs": [
    {
     "name": "stdout",
     "output_type": "stream",
     "text": [
      "[1 2 3 4]\n"
     ]
    }
   ],
   "source": [
    "#============================================================\n",
    "#Latihan mengenai Copy pada Numpy\n",
    "#Membuat salinan dengan kode c.copy()\n",
    "#============================================================\n",
    "d = c.copy()\n",
    "#kode diatas akan membuat salinan dari variabel c dan menempel salinan tersebut ke varianel d\n",
    "#sehingga elemen dari c dan d akan sama\n",
    "#tetapi, perubahan yang dilakukan pada variabel d tidak akan mempengaruhi variabel c\n",
    "print (d)"
   ]
  },
  {
   "cell_type": "code",
   "execution_count": 20,
   "id": "90e4e805",
   "metadata": {},
   "outputs": [
    {
     "name": "stdout",
     "output_type": "stream",
     "text": [
      "[10  2  3  4]\n"
     ]
    }
   ],
   "source": [
    "d [0] =10\n",
    "#Variabel d menunjuk pada elemen yang sama dengan variabel c.\n",
    "#kode ini akan merubah baris ke-0 dan kolom ke- 0 pada matriks dengan variabel d menjadi 10\n",
    "print (d)"
   ]
  },
  {
   "cell_type": "code",
   "execution_count": 21,
   "id": "17e89940",
   "metadata": {},
   "outputs": [
    {
     "name": "stdout",
     "output_type": "stream",
     "text": [
      "[1 2 3 4]\n"
     ]
    }
   ],
   "source": [
    "#tetapi, perubahan yang dilakukan pada variabel d tidak akan mempengaruhi variabel c\n",
    "#sehingga, ketika kita mencetak c, maka elemen baris ke-0 dan kolom ke-0 tidak akan berubah menjadi 10\n",
    "print (c)"
   ]
  },
  {
   "cell_type": "markdown",
   "id": "603c6fcd",
   "metadata": {},
   "source": [
    "## 5.20.5 Operasi Matematika pada Numpy"
   ]
  },
  {
   "cell_type": "code",
   "execution_count": 3,
   "id": "04ce1d8a",
   "metadata": {},
   "outputs": [],
   "source": [
    "import numpy as np"
   ]
  },
  {
   "cell_type": "code",
   "execution_count": 8,
   "id": "b44c076d",
   "metadata": {},
   "outputs": [
    {
     "data": {
      "text/plain": [
       "array([6, 7, 8, 9])"
      ]
     },
     "execution_count": 8,
     "metadata": {},
     "output_type": "execute_result"
    }
   ],
   "source": [
    "#============================================================\n",
    "#Latihan mengenai Operasi Matematika pada Numpy\n",
    "#Operasi dasar pada matematika\n",
    "#============================================================\n",
    "a+5\n",
    "#kode diatas akan menambahkan setiap elemen dari matriks yang memiliki variabel a dengan 5\n",
    "#sehingga output yang dihasilkan adalah matriks baru setelah seluruh elemen pada matriks a ditmbahkan 5"
   ]
  },
  {
   "cell_type": "code",
   "execution_count": 10,
   "id": "081ccd19",
   "metadata": {},
   "outputs": [
    {
     "data": {
      "text/plain": [
       "array([-2, -1,  0,  1])"
      ]
     },
     "execution_count": 10,
     "metadata": {},
     "output_type": "execute_result"
    }
   ],
   "source": [
    "#operasi pengurangan\n",
    "a-3"
   ]
  },
  {
   "cell_type": "code",
   "execution_count": 11,
   "id": "70d3026d",
   "metadata": {},
   "outputs": [
    {
     "data": {
      "text/plain": [
       "array([0.5, 1. , 1.5, 2. ])"
      ]
     },
     "execution_count": 11,
     "metadata": {},
     "output_type": "execute_result"
    }
   ],
   "source": [
    "#operasi pembagian\n",
    "a/2"
   ]
  },
  {
   "cell_type": "code",
   "execution_count": 12,
   "id": "c141d3de",
   "metadata": {},
   "outputs": [
    {
     "data": {
      "text/plain": [
       "array([10, 20, 30, 40])"
      ]
     },
     "execution_count": 12,
     "metadata": {},
     "output_type": "execute_result"
    }
   ],
   "source": [
    "#operasi perkalian\n",
    "a*10"
   ]
  },
  {
   "cell_type": "code",
   "execution_count": 13,
   "id": "28e051ff",
   "metadata": {},
   "outputs": [
    {
     "name": "stdout",
     "output_type": "stream",
     "text": [
      "[2 3 5 7]\n"
     ]
    }
   ],
   "source": [
    "#dideklarasikan variabel baru dengan elemen-elemen sebagai berikut\n",
    "b = np.array ([2,3,5,7])\n",
    "print (b)"
   ]
  },
  {
   "cell_type": "code",
   "execution_count": 14,
   "id": "5be5e929",
   "metadata": {},
   "outputs": [
    {
     "data": {
      "text/plain": [
       "array([-1, -1, -2, -3])"
      ]
     },
     "execution_count": 14,
     "metadata": {},
     "output_type": "execute_result"
    }
   ],
   "source": [
    "a-b\n",
    "#kode diatas akan melakukan operasi pengurangan elemen per elemen antara matriks a dan b\n",
    "#namun, harus dipastikan bahwa matriks dari a dan b berukuran sama"
   ]
  },
  {
   "cell_type": "code",
   "execution_count": 17,
   "id": "7ea95cf3",
   "metadata": {},
   "outputs": [
    {
     "data": {
      "text/plain": [
       "array([   2,    9,  125, 2401], dtype=int32)"
      ]
     },
     "execution_count": 17,
     "metadata": {},
     "output_type": "execute_result"
    }
   ],
   "source": [
    "b*a\n",
    "#hal tersebut juga berlaku pada operasi perkalian"
   ]
  },
  {
   "cell_type": "code",
   "execution_count": 18,
   "id": "b089abff",
   "metadata": {},
   "outputs": [
    {
     "data": {
      "text/plain": [
       "array([ 0.54030231, -0.41614684, -0.9899925 , -0.65364362])"
      ]
     },
     "execution_count": 18,
     "metadata": {},
     "output_type": "execute_result"
    }
   ],
   "source": [
    "#============================================================\n",
    "#Latihan mengenai Operasi Matematika pada Numpy\n",
    "#Operasi Trigonometri\n",
    "#============================================================\n",
    "np.cos (a)\n",
    "#kode diatas akan menghitung nilai cos dari setiap elemen pada matriks a\n",
    "#output yang dihasilkan adalah matriks yang menjadi hasil dari cos tiap elemen di a"
   ]
  },
  {
   "cell_type": "code",
   "execution_count": 20,
   "id": "7bdebf99",
   "metadata": {},
   "outputs": [
    {
     "data": {
      "text/plain": [
       "array([ 1.55740772, -2.18503986, -0.14254654,  1.15782128])"
      ]
     },
     "execution_count": 20,
     "metadata": {},
     "output_type": "execute_result"
    }
   ],
   "source": [
    "#begitu juga dengan operasi tangen\n",
    "np.tan (a)"
   ]
  },
  {
   "cell_type": "code",
   "execution_count": 19,
   "id": "6ffb2180",
   "metadata": {},
   "outputs": [
    {
     "data": {
      "text/plain": [
       "array([0.76159416, 0.96402758, 0.99505475, 0.9993293 ])"
      ]
     },
     "execution_count": 19,
     "metadata": {},
     "output_type": "execute_result"
    }
   ],
   "source": [
    "\n",
    "np.tanh (a)\n",
    "#kode diatas akan menghitung nilai dari tangen hiperbolik dalam setiap elemen matriks a\n",
    "#output yang dihasilkan adalah matriks baru yang menjadi hasil dari tangen hiperboli dari setiap elemen di a"
   ]
  },
  {
   "cell_type": "code",
   "execution_count": 21,
   "id": "07bb84ac",
   "metadata": {},
   "outputs": [
    {
     "data": {
      "text/plain": [
       "array([ 1.54308063,  3.76219569, 10.067662  , 27.30823284])"
      ]
     },
     "execution_count": 21,
     "metadata": {},
     "output_type": "execute_result"
    }
   ],
   "source": [
    "#berikut adalah kode untuk mencari cos hiperbolik dari matriks a\n",
    "np.cosh (a)"
   ]
  },
  {
   "cell_type": "code",
   "execution_count": 22,
   "id": "3085cd7e",
   "metadata": {},
   "outputs": [
    {
     "data": {
      "text/plain": [
       "array([1.        , 1.41421356, 1.73205081, 2.        ])"
      ]
     },
     "execution_count": 22,
     "metadata": {},
     "output_type": "execute_result"
    }
   ],
   "source": [
    "#============================================================\n",
    "#Latihan mengenai Operasi Matematika pada Numpy\n",
    "#Operasi Akar kuadrat\n",
    "#============================================================\n",
    "np.sqrt (a)\n",
    "#kode diatas akan menghitung akar kuadrat dari setiap elemen dalam matriks a\n",
    "#output yang dihasilkan adalah matriks baru yang berisi hasil dari akar kuadrat matriks a"
   ]
  },
  {
   "cell_type": "markdown",
   "id": "15708397",
   "metadata": {},
   "source": [
    "## 5.20.6 Perkalian Matriks pada Numpy"
   ]
  },
  {
   "cell_type": "code",
   "execution_count": 15,
   "id": "f51b8530",
   "metadata": {},
   "outputs": [],
   "source": [
    "import numpy as np"
   ]
  },
  {
   "cell_type": "code",
   "execution_count": 16,
   "id": "db3e8103",
   "metadata": {},
   "outputs": [
    {
     "name": "stdout",
     "output_type": "stream",
     "text": [
      "[[ 5  6  7  8]\n",
      " [ 8  9 10 11]]\n"
     ]
    }
   ],
   "source": [
    "#dideklarasikan matriks d dengan elemen-elemen sebagai berikut\n",
    "d = np.array([[5,6,7,8],[8,9,10,11]])\n",
    "print (d)"
   ]
  },
  {
   "cell_type": "code",
   "execution_count": 18,
   "id": "6180451b",
   "metadata": {},
   "outputs": [
    {
     "name": "stdout",
     "output_type": "stream",
     "text": [
      "[[0 4 8 0]\n",
      " [1 4 5 6]]\n"
     ]
    }
   ],
   "source": [
    "#dideklarasikan pula matriks e dengan elemen-elemen sebagai berikut\n",
    "e = np.array ([[0,4,8,0], [1,4,5,6]])\n",
    "print (e)"
   ]
  },
  {
   "cell_type": "code",
   "execution_count": 30,
   "id": "bdf1064d",
   "metadata": {},
   "outputs": [
    {
     "name": "stdout",
     "output_type": "stream",
     "text": [
      "[[ 0 24 56  0]\n",
      " [ 8 36 50 66]]\n"
     ]
    }
   ],
   "source": [
    "#============================================================\n",
    "#Latihan mengenai Operasi Perkalian pada Matriks\n",
    "#============================================================\n",
    "\n",
    "k = d*e\n",
    "#kode diatas akan mengalikan antara matriks d dan e\n",
    "#hasil dari perkalian tersebut akan disimpan dalam variabel k\n",
    "#perlu diingat bahwa ordo atau ukuran dari matriks harus sama\n",
    "print (k)\n",
    "#dilakukan pencetakan antara perkalian matriks d dan e"
   ]
  },
  {
   "cell_type": "code",
   "execution_count": 26,
   "id": "1961906f",
   "metadata": {},
   "outputs": [
    {
     "name": "stdout",
     "output_type": "stream",
     "text": [
      "[[1 2]\n",
      " [4 5]\n",
      " [6 8]\n",
      " [9 7]]\n"
     ]
    }
   ],
   "source": [
    "#dideklarasikan matriks baru yaitu s dengan elemen sebagai berikut\n",
    "s = np.array([[1,2],[4,5],[6,8],[9,7]])\n",
    "print (s)"
   ]
  },
  {
   "cell_type": "code",
   "execution_count": 27,
   "id": "451033e4",
   "metadata": {},
   "outputs": [
    {
     "name": "stdout",
     "output_type": "stream",
     "text": [
      "[[143 152]\n",
      " [203 218]]\n"
     ]
    }
   ],
   "source": [
    "#============================================================\n",
    "#Latihan mengenai Operasi Perkalian pada Matriks\n",
    "#fungsi .matmul\n",
    "#============================================================\n",
    "#fungsi .matmul () merupakan fungsi yang digunakan untuk melakukan perkalian matriks pada numpy\n",
    "b = np.matmul (d,s)\n",
    "#kode diatas akan melalkukan operasi perkalian matriks d dan s\n",
    "#hasil perkalian akan disimpan dalam variabel b \n",
    "print (b)\n",
    "#kemudian hasil perkalian dicetak dengan perintah print"
   ]
  },
  {
   "cell_type": "markdown",
   "id": "453522ce",
   "metadata": {},
   "source": [
    "## 5.20.7 Min, Max, dan Sum pada Numpy"
   ]
  },
  {
   "cell_type": "code",
   "execution_count": 2,
   "id": "5d95867b",
   "metadata": {},
   "outputs": [],
   "source": [
    "import numpy as np"
   ]
  },
  {
   "cell_type": "code",
   "execution_count": 31,
   "id": "92fbd583",
   "metadata": {},
   "outputs": [
    {
     "name": "stdout",
     "output_type": "stream",
     "text": [
      "[[ 1  4  5  6]\n",
      " [ 5  9  8  0]\n",
      " [10 13 15 16]]\n"
     ]
    }
   ],
   "source": [
    "#dideklarasikan matriks dengan variabel v dengan elemen-elemen yang telah ditentukan\n",
    "v = np.array ([[1,4,5,6],\n",
    "              [5,9,8,0],\n",
    "              [10,13,15,16]])\n",
    "print (v)"
   ]
  },
  {
   "cell_type": "code",
   "execution_count": 7,
   "id": "5c3e557e",
   "metadata": {},
   "outputs": [
    {
     "name": "stdout",
     "output_type": "stream",
     "text": [
      "0\n"
     ]
    }
   ],
   "source": [
    "#============================================================\n",
    "#Latihan mengenai Nilai Min pada Matriks\n",
    "#============================================================\n",
    "z = np.min (v)\n",
    "#fungsi .min() digunakan untuk mencari nilai minimum dari matriks v\n",
    "#nilai minimum tersebut akan dicetak ke dalam variabel z\n",
    "print (z)\n",
    "#nilai z dicetak dengan perintah print"
   ]
  },
  {
   "cell_type": "code",
   "execution_count": 32,
   "id": "f79ae503",
   "metadata": {},
   "outputs": [
    {
     "name": "stdout",
     "output_type": "stream",
     "text": [
      "[1 4 5 0]\n"
     ]
    }
   ],
   "source": [
    "#============================================================\n",
    "#Latihan mengenai nilai Min pada Matriks\n",
    "#mencari nilai min dengan axis\n",
    "#============================================================\n",
    "s = np.min (v, axis=0)\n",
    "#akan dilakukan perhitungan nilai minimum dari setiap kolom pada matriks v \n",
    "#ditambahkan sebuah parameter yaitu axis = 0 yang menandakan bahwa perhitungan dilakukan untuk setiap kolom\n",
    "#hasilnya adalah matriks dengan jumlah baris 1 yang berisi nilai minimum dari setiap kolom pada matriks v\n",
    "#hasil tersebut akan disimpan dalam variabel s\n",
    "print (s)\n",
    "#hasil akan dicetak dengan menggunakan perintah print"
   ]
  },
  {
   "cell_type": "code",
   "execution_count": 11,
   "id": "92e05d7f",
   "metadata": {},
   "outputs": [
    {
     "name": "stdout",
     "output_type": "stream",
     "text": [
      "16\n"
     ]
    }
   ],
   "source": [
    "#============================================================\n",
    "#Latihan mengenai nilai Max pada Matriks\n",
    "#============================================================\n",
    "f = np.max (v)\n",
    "#fungsi .max() digunakan untuk mencari nilai maksimum dari matriks v\n",
    "#nilai maksimum tersebut akan dicetak ke dalam variabel f\n",
    "print (f)\n",
    "#akan dicetak variabel f dengan perintah print"
   ]
  },
  {
   "cell_type": "code",
   "execution_count": 12,
   "id": "aeedb793",
   "metadata": {},
   "outputs": [
    {
     "name": "stdout",
     "output_type": "stream",
     "text": [
      "[ 6  9 16]\n"
     ]
    }
   ],
   "source": [
    "#============================================================\n",
    "#Latihan mengenai operasi Max pada Matriks\n",
    "#menghitung nilai max dengan axis\n",
    "#============================================================\n",
    "g = np.max (v, axis = 1)\n",
    "#kode diatas akan mencari nilai maksimum dari setiap baris dalam variabel v\n",
    "#argumen axis =1 mengartikan bahwa perhitungan nilai maksimum dilakukan per baris\n",
    "#hasilnya akan menjadi matriks dengan elemen-elemen nilai maksimum dari setiap baris pada matriks p\n",
    "#hasil tersebut akan disimpan dalam variabel g\n",
    "print (g)\n",
    "#variabel g akan dicetak dengan perintah print"
   ]
  },
  {
   "cell_type": "code",
   "execution_count": 13,
   "id": "905c2ab5",
   "metadata": {},
   "outputs": [
    {
     "name": "stdout",
     "output_type": "stream",
     "text": [
      "92\n"
     ]
    }
   ],
   "source": [
    "#============================================================\n",
    "#Latihan mengenai Sum pada Matriks\n",
    "#menghitung nilai sum\n",
    "#============================================================\n",
    "t = np.sum (v)\n",
    "#fungsi .sum() adalah fungsi yang digunakan untuk menghitung jumlah seluruh elemen yang terdapat pada variabel\n",
    "#dalam kode ini, sistem akan menjumlahkan seluruh elemen yang berada dalam matriks v\n",
    "#hasil tersebut akan disimpan dalam variabel t\n",
    "print (t)\n",
    "#Kemudian, variabel t dicetak dengan menggunakan perintah print yang menampilkan hasil penjumlahan pada array v"
   ]
  },
  {
   "cell_type": "code",
   "execution_count": 14,
   "id": "7a758408",
   "metadata": {},
   "outputs": [
    {
     "name": "stdout",
     "output_type": "stream",
     "text": [
      "[16 26 28 22]\n"
     ]
    }
   ],
   "source": [
    "#============================================================\n",
    "#Latihan mengenai Sum pada Matriks\n",
    "#menghitung nilai sum dengan parameter axis\n",
    "#============================================================\n",
    "u = np.sum (v, axis = 0)\n",
    "#kode diatas akan menjumlahkan seluruh elemen pada matriks v\n",
    "#dengan menggunakan parameter axis = 0, sistem akan melakukan penjumlahan pada setiap kolom dari matriks v\n",
    "#hasilnya adalah sebuah matriks yang berisi elemen-elemen hasil penjumlahan dari setiap elemen pada kolom matriks v\n",
    "#hasil tersebut disimpan dalam variabel u\n",
    "print (u)\n",
    "#kemudian, hasil dicetak dengan menggunakan perintah print"
   ]
  }
 ],
 "metadata": {
  "kernelspec": {
   "display_name": "Python 3 (ipykernel)",
   "language": "python",
   "name": "python3"
  },
  "language_info": {
   "codemirror_mode": {
    "name": "ipython",
    "version": 3
   },
   "file_extension": ".py",
   "mimetype": "text/x-python",
   "name": "python",
   "nbconvert_exporter": "python",
   "pygments_lexer": "ipython3",
   "version": "3.9.13"
  }
 },
 "nbformat": 4,
 "nbformat_minor": 5
}
