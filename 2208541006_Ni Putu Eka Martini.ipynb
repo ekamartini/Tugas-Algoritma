{
 "cells": [
  {
   "cell_type": "code",
   "execution_count": 4,
   "id": "3bcea728",
   "metadata": {},
   "outputs": [
    {
     "name": "stdout",
     "output_type": "stream",
     "text": [
      "Disini terlihat tulisan yang terlihat hanya yang ada dalam tanda petik dan tulisan yang ada setelah pagar tidak ada\n"
     ]
    }
   ],
   "source": [
    "#006_tanda pagar (#) digunakan untuk menulis komentar sebagai informasi tambahan dan untuk menonaktifkan kode\n",
    "# apabila tanda ini digunakan, kode akan non-aktif dan tidak akan muncel saat di run\n",
    "print (\"Disini terlihat tulisan yang terlihat hanya yang ada dalam tanda petik dan tulisan yang ada setelah pagar tidak ada\")"
   ]
  },
  {
   "cell_type": "code",
   "execution_count": 3,
   "id": "ec54e48f",
   "metadata": {},
   "outputs": [
    {
     "name": "stdout",
     "output_type": "stream",
     "text": [
      "Hari ini saya belajar mata kuliah Algoritma dan Struktur Data di Lab. Komputer\n"
     ]
    }
   ],
   "source": [
    "#006_Print adalah perintah untuk mencetak tulisan \n",
    "#Tanda yang digunakan dalam print dapat berupa ('') ataupun (\" \")\n",
    "#Berikut merupakan perintah dengan menggunakan tanda print (\" \")\n",
    "print (\"Hari ini saya belajar mata kuliah Algoritma dan Struktur Data di Lab. Komputer\")"
   ]
  },
  {
   "cell_type": "code",
   "execution_count": 2,
   "id": "580f439b",
   "metadata": {},
   "outputs": [
    {
     "name": "stdout",
     "output_type": "stream",
     "text": [
      "Mengapa hujan bisa turun dengan deras?\n"
     ]
    }
   ],
   "source": [
    "#006_Perintah print juga dapat dijalankan dengan tanda (' ')\n",
    "print ('Mengapa hujan bisa turun dengan deras?')"
   ]
  },
  {
   "cell_type": "code",
   "execution_count": 6,
   "id": "af32796d",
   "metadata": {},
   "outputs": [
    {
     "ename": "SyntaxError",
     "evalue": "EOL while scanning string literal (2659493763.py, line 3)",
     "output_type": "error",
     "traceback": [
      "\u001b[1;36m  File \u001b[1;32m\"C:\\Users\\ekama\\AppData\\Local\\Temp\\ipykernel_9836\\2659493763.py\"\u001b[1;36m, line \u001b[1;32m3\u001b[0m\n\u001b[1;33m    print (\"Saya ingin kuliah di luar negeri')\u001b[0m\n\u001b[1;37m                                              ^\u001b[0m\n\u001b[1;31mSyntaxError\u001b[0m\u001b[1;31m:\u001b[0m EOL while scanning string literal\n"
     ]
    }
   ],
   "source": [
    "#006_Gunakan tanda petik yang sama agar tidak error.\n",
    "#Berikut apabila tanda petik yang digunakan tidak sama\n",
    "print (\"Saya ingin kuliah di luar negeri')"
   ]
  },
  {
   "cell_type": "code",
   "execution_count": 8,
   "id": "3c627e25",
   "metadata": {},
   "outputs": [
    {
     "name": "stdout",
     "output_type": "stream",
     "text": [
      "Saya ingin pulang ke rumah \n",
      "Tapi selalu saja ada kegiatan di kampus\n"
     ]
    }
   ],
   "source": [
    "#006_Gunakan /n untuk enter atau memulai baris baru\n",
    "print ('Saya ingin pulang ke rumah \\nTapi selalu saja ada kegiatan di kampus')"
   ]
  },
  {
   "cell_type": "code",
   "execution_count": 1,
   "id": "30b6ae37",
   "metadata": {},
   "outputs": [
    {
     "name": "stdout",
     "output_type": "stream",
     "text": [
      "85\n",
      "1000000\n",
      "85000000\n"
     ]
    }
   ],
   "source": [
    "#006_Contoh penggunaan perintah print dengan menggunakan operasi *\n",
    "jumlah_pegawai_kantor_006 = 85\n",
    "gaji_umr_kota_006 = 1000000\n",
    "print (jumlah_pegawai_kantor_006)\n",
    "print (gaji_umr_kota_006)\n",
    "print (jumlah_pegawai_kantor_006*gaji_umr_kota_006)"
   ]
  },
  {
   "cell_type": "code",
   "execution_count": 2,
   "id": "75e1fe07",
   "metadata": {},
   "outputs": [
    {
     "name": "stdout",
     "output_type": "stream",
     "text": [
      "Eka Martini\n"
     ]
    }
   ],
   "source": [
    "#006_Contoh penggunaan perintah print dengan menggunakan operasi + untuk menggabungkan kata\n",
    "nama_depan_006 = \"Eka\"\n",
    "nama_belakang_006 = \"Martini\"\n",
    "print (nama_depan_006 + ' '+ nama_belakang_006)"
   ]
  },
  {
   "cell_type": "code",
   "execution_count": 1,
   "id": "5f55102e",
   "metadata": {},
   "outputs": [
    {
     "name": "stdout",
     "output_type": "stream",
     "text": [
      "masukkan nama : Eka\n",
      "Berat badannya :51\n",
      "Berat badan Eka adalah 51\n"
     ]
    }
   ],
   "source": [
    "#006_Perintah input digunakan jika ingin mendapatkan informasi dari pengguna\n",
    "nama_006 = input (\"masukkan nama : \")\n",
    "berat_badan_006 = input(\"Berat badannya :\")\n",
    "print (\"Berat badan \" + nama_006 + \" adalah \" + berat_badan_006)\n"
   ]
  },
  {
   "cell_type": "code",
   "execution_count": 3,
   "id": "2ff34cad",
   "metadata": {},
   "outputs": [
    {
     "name": "stdout",
     "output_type": "stream",
     "text": [
      "Masukkan harga barang yang akan dibeli : 2000\n",
      "Masukkan jumlah barang yang akan dibeli : 2\n",
      "Total harga barang yang harus dibayar 4000\n"
     ]
    }
   ],
   "source": [
    "#Tipe data pada Python\n",
    "#Terdapat beberapa type data pada Python antara lain int, float, str, dan bool\n",
    "#Berikut contoh code dengan menggunakan int\n",
    "#tipe data string digunakan untuk membaca hasil jumlah dari int agar terbaca\n",
    "harga_006 = int (input (\"Masukkan harga barang yang akan dibeli : \"))\n",
    "jumlah_barang_006 = int(input (\"Masukkan jumlah barang yang akan dibeli : \"))\n",
    "print (\"Total harga barang yang harus dibayar \" + str (harga_006*jumlah_barang_006))\n"
   ]
  },
  {
   "cell_type": "code",
   "execution_count": 6,
   "id": "20eeba69",
   "metadata": {},
   "outputs": [
    {
     "name": "stdout",
     "output_type": "stream",
     "text": [
      "Masukkan Bilangan Pertama : 2\n",
      "Masukkan Bilangan Kedua : 5\n",
      "Hasil perkalian dari kedua bilangan adalah :10.0\n"
     ]
    }
   ],
   "source": [
    "#type data float yaitu untuk bilangan real\n",
    "bil_pertama = input (\"Masukkan Bilangan Pertama : \")\n",
    "bil_kedua = input (\"Masukkan Bilangan Kedua : \")\n",
    "hasil_kali = float (bil_pertama)*float(bil_kedua)\n",
    "print (\"Hasil perkalian dari kedua bilangan adalah :\" + str (hasil_kali))"
   ]
  },
  {
   "cell_type": "code",
   "execution_count": 4,
   "id": "7b6e055a",
   "metadata": {},
   "outputs": [
    {
     "name": "stdout",
     "output_type": "stream",
     "text": [
      "True\n",
      "False\n"
     ]
    }
   ],
   "source": [
    "#tipe data boolean seperti True or false\n",
    "x = 20\n",
    "y = 50\n",
    "print (x < 100)\n",
    "print (y > 500)"
   ]
  },
  {
   "cell_type": "code",
   "execution_count": 5,
   "id": "3161b710",
   "metadata": {},
   "outputs": [
    {
     "name": "stdout",
     "output_type": "stream",
     "text": [
      "p + q =  28\n",
      "p * q =  195\n",
      "p - q =  2\n",
      "p / q =  1.1538461538461537\n",
      "p ** q =  1946195068359375\n"
     ]
    }
   ],
   "source": [
    "#contoh penggunaan operasi aritmatika\n",
    "p_006 = 15\n",
    "q_006 = 13\n",
    "\n",
    "print (\"p + q = \", p_006+q_006) #penjumlahan\n",
    "print (\"p * q = \", p_006*q_006) #perkalian\n",
    "print (\"p - q = \", p_006-q_006) #pengurangan\n",
    "print (\"p / q = \", p_006 / q_006) #pembagian\n",
    "print (\"p ** q = \", p_006**q_006) #perpangkatan"
   ]
  },
  {
   "cell_type": "code",
   "execution_count": 9,
   "id": "98e2582d",
   "metadata": {},
   "outputs": [
    {
     "name": "stdout",
     "output_type": "stream",
     "text": [
      "Soke Bahtera adalah seorang mahasiswa Matematika di Universitas Udayana.\n"
     ]
    }
   ],
   "source": [
    "#Formatted String\n",
    "#Formatted string digunakan untuk mempermudah penulisan nilai variabel yang ingin dicetak pada perintah print.\n",
    "nama = \"Soke Bahtera\"\n",
    "jurusan = 'Matematika'\n",
    "institusi = \"Universitas Udayana\"\n",
    "print (nama + \" adalah seorang mahasiswa \" + jurusan + \" di \" + institusi +'.')"
   ]
  },
  {
   "cell_type": "code",
   "execution_count": 11,
   "id": "28d04fc6",
   "metadata": {},
   "outputs": [
    {
     "name": "stdout",
     "output_type": "stream",
     "text": [
      "Soke Bahtera adalah seorang mahasiswa Matematika di Universitas Udayana.\n"
     ]
    }
   ],
   "source": [
    "#formatted string\n",
    "print (f'{nama} adalah seorang mahasiswa {jurusan} di {institusi}.')"
   ]
  },
  {
   "cell_type": "code",
   "execution_count": 12,
   "id": "10d7c28e",
   "metadata": {},
   "outputs": [
    {
     "name": "stdout",
     "output_type": "stream",
     "text": [
      "Soke Bahtera adalah seorang mahasiswa Matematika di Universitas Udayana.\n"
     ]
    }
   ],
   "source": [
    "print (f\"{nama} adalah seorang mahasiswa {jurusan} di {institusi}.\")"
   ]
  },
  {
   "cell_type": "code",
   "execution_count": 14,
   "id": "ba68573f",
   "metadata": {},
   "outputs": [
    {
     "name": "stdout",
     "output_type": "stream",
     "text": [
      "Masukkan nilaimu :B\n",
      "Tidak buruk, selanjutnya harus lebih baik\n"
     ]
    }
   ],
   "source": [
    "#program dengan menggunakan elif\n",
    "#Kata-kata tanggapan mengenai suatu nilai mata kuliah\n",
    "#Dilakukan deskripsi mengenai nilai suatu mata kuliah dengan menggunakan type data string\n",
    "nilai = str (input (\"Masukkan nilaimu :\"))\n",
    "#gunakan elif untuk mendeskripsikan kata motipasi yang akan keluar\n",
    "if nilai == 'A' :\n",
    "    print (\"Nilai kamu sangat baik. Pertahankan!\")\n",
    "elif nilai == 'B+' :\n",
    "    print (\"Memuaskan. Tingkatkan lagi!\") \n",
    "elif nilai  == 'B' :\n",
    "    print (\"Tidak buruk, selanjutnya harus lebih baik\")\n",
    "elif nilai == 'C+' :\n",
    "    print (\"Oke, kamu harus belajar lebih giat!\")\n",
    "elif nilai == 'C' :\n",
    "    print (\"Jangan bermalas, ayo belajar!\")\n",
    "elif nilai == 'D' :\n",
    "    print (\"Kamu harus mengulang kembali semester depan, semangat!\")\n",
    "elif nilai == 'E' :\n",
    "    print (\"berjanjilah kamu tidak akan mendapat huruf ini lagi!\")"
   ]
  },
  {
   "cell_type": "code",
   "execution_count": null,
   "id": "097ab0bb",
   "metadata": {},
   "outputs": [],
   "source": []
  }
 ],
 "metadata": {
  "kernelspec": {
   "display_name": "Python 3 (ipykernel)",
   "language": "python",
   "name": "python3"
  },
  "language_info": {
   "codemirror_mode": {
    "name": "ipython",
    "version": 3
   },
   "file_extension": ".py",
   "mimetype": "text/x-python",
   "name": "python",
   "nbconvert_exporter": "python",
   "pygments_lexer": "ipython3",
   "version": "3.9.13"
  }
 },
 "nbformat": 4,
 "nbformat_minor": 5
}
