{
 "cells": [
  {
   "cell_type": "markdown",
   "id": "194aa970",
   "metadata": {},
   "source": [
    "## Pertemuan 4 "
   ]
  },
  {
   "cell_type": "markdown",
   "id": "524e4259",
   "metadata": {},
   "source": [
    "# 5.11 While Loop "
   ]
  },
  {
   "cell_type": "markdown",
   "id": "ed38898f",
   "metadata": {},
   "source": [
    "While loop akan selalu dieksekusi selama nilainya True dan akan berhenti saat nilainya menjadi False"
   ]
  },
  {
   "cell_type": "code",
   "execution_count": 1,
   "id": "ca5ee03d",
   "metadata": {},
   "outputs": [
    {
     "name": "stdout",
     "output_type": "stream",
     "text": [
      "1\n",
      "2\n",
      "3\n",
      "4\n",
      "5\n",
      "6\n",
      "7\n",
      "8\n",
      "9\n",
      "10\n",
      "11\n",
      "12\n"
     ]
    }
   ],
   "source": [
    "#=============================================================\n",
    "#Mengenai While Loop (1)\n",
    "#=============================================================\n",
    "#Diinisialisasikan variabel i\n",
    "i = 1\n",
    "while i <= 12 :\n",
    "    print (i)\n",
    "    i += 1 \n",
    "\n",
    "#<<<<<<<<<<<<<<<<<<<<<<<<<<<<<<<<<<<<<<<<<<<<<<<<<<<<<<<<<<<<<<<<<<<<<<<<<<<<<<<<<<<<<<<<<<<<<<<<<<<<<<<<<<<<<<<<<<<<<<<<<<<<<<<<<<<<<<<<<<<<<<<<<<<<<<<<<<<<\n",
    "#Pada program di atas, kita menginstruksikan untuk melakukan perulangan selama variabel i kurang dari atau sama dengan 12\n",
    "#Selanjutnya untuk setiap kali iterasi, sistem akan menampilkan dari i\n",
    "#Pada setiap iterasi, sistem akan menambahkan nilai i dengan angka 1\n",
    "#Begitu seterusnya hingga i bernilai 12. Ketika i bernilai 13 maka kondisi akan bernilai False karena bilangan 13>12 adalah pernyataan yang salah\n",
    "#Ketika pernyataan bernilai salah, perintah dalam perulangan tidak akan dieksekusi dan perulangan dinyatakan selesai\n",
    "#<<<<<<<<<<<<<<<<<<<<<<<<<<<<<<<<<<<<<<<<<<<<<<<<<<<<<<<<<<<<<<<<<<<<<<<<<<<<<<<<<<<<<<<<<<<<<<<<<<<<<<<<<<<<<<<<<<<<<<<<<<<<<<<<<<<<<<<<<<<<<<<<<<<<<<<<<<<<"
   ]
  },
  {
   "cell_type": "code",
   "execution_count": 2,
   "id": "cc60942c",
   "metadata": {},
   "outputs": [],
   "source": [
    "#==============================================================\n",
    "#Perulangan 'While' tanpa batas \n",
    "#==============================================================\n",
    "\n",
    "#Dideklarasikan variabel p = 1\n",
    "p = 1\n",
    "while i <= 10 :\n",
    "    print (i)\n",
    "    \n",
    "#<<<<<<<<<<<<<<<<<<<<<<<<<<<<<<<<<<<<<<<<<<<<<<<<<<<<<<<<<<<<<<<<<<<<<<<<<<<<<<<<<<<<<<<<<<<<<<<<<<<<<<<<<<<<<<<<<<<<<<<<<<<<<<<<<<<<<<<<<<<<<<<<<<..\n",
    "#Data tidak memiliki output, namun tidak error juga\n",
    "#Hal ini dikarenakan kondisi while selalu bernilai benar yaitu 1<=10 yang berakibat variabel i akan terus dieksekusi hingga tak berhingga\n",
    "#Perulangan inilah yang disebit sebagai perulangan tanpa batas dimana sistem akan terus menerus menjalankan selama nilainya bernilai benar\n",
    "#<<<<<<<<<<<<<<<<<<<<<<<<<<<<<<<<<<<<<<<<<<<<<<<<<<<<<<<<<<<<<<<<<<<<<<<<<<<<<<<<<<<<<<<<<<<<<<<<<<<<<<<<<<<<<<<<<<<<<<<<<<<<<<<<<<<<<<<<<<<<<<<<<"
   ]
  },
  {
   "cell_type": "code",
   "execution_count": 3,
   "id": "2f6b4a9f",
   "metadata": {},
   "outputs": [
    {
     "name": "stdout",
     "output_type": "stream",
     "text": [
      "Masukkan bilangan ganjil yang kurang dari 40 : 55\n",
      "Salah, mohon masukan angka lain : 3\n",
      "Benar, ini adalah bilangan ganjil yang kurang dari 40\n"
     ]
    }
   ],
   "source": [
    "#==============================================================\n",
    "#Perulangan 'While' dengan input\n",
    "#==============================================================\n",
    "\n",
    "#Berikut ini dideklarasikan variabel a yaitu angka ganjil lebih dari 50 dengan perintah input\n",
    "x = int(input(\"Masukkan bilangan ganjil yang kurang dari 40 : \"))\n",
    "\n",
    "while x % 2 !=1 or x >= 40 : \n",
    "#code diatas adalah rumus untuk menentukan bilangan ganjil dengan menggunakan modulo\n",
    "#jika suatu bilangan memiliki sisa bagi, maka bilangan tersebut adalah bilangan ganjil\n",
    "    x = int (input('Salah, mohon masukan angka lain : '))\n",
    "    \n",
    "print ('Benar, ini adalah bilangan ganjil yang kurang dari 40')\n",
    "\n",
    "\n",
    "#<<<<<<<<<<<<<<<<<<<<<<<<<<<<<<<<<<<<<<<<<<<<<<<<<<<<<<<<<<<<<<<<<<<<<<<<<<<<<<<<<<<<<<<<<<<<<<<<<<<<<<<<<<<<<<<<<<<<<<\n",
    "#pada program ini, kita meminta user untuk memasukkan angka ganjil yang kurang dari 40. \n",
    "#Jika user memasukkan nilai genap atau lebih dari 40, sistem akan meminta user untuk menginput kembali\n",
    "#jika user memasukkan angka sesuai perintah, maka output yang keluar adalah 'Benar, ini bilangan ganjil kurang dari 40'\n",
    "#<<<<<<<<<<<<<<<<<<<<<<<<<<<<<<<<<<<<<<<<<<<<<<<<<<<<<<<<<<<<<<<<<<<<<<<<<<<<<<<<<<<<<<<<<<<<<<<<<<<<<<<<<<<<<<<<<<<<<<<"
   ]
  },
  {
   "cell_type": "markdown",
   "id": "868008b3",
   "metadata": {},
   "source": [
    "# 5.12 List di Python"
   ]
  },
  {
   "cell_type": "markdown",
   "id": "dbf330f9",
   "metadata": {},
   "source": [
    "List dapat digunakan saat kita akan merepresentasikan objek di dalam Python baik berupa string maupun berupa angka. Ini akan banyak digunakan pada saat kita mengolah data pada Python. List dapat dipanggil urutannya, bahkan isinya dapat dirubah."
   ]
  },
  {
   "cell_type": "code",
   "execution_count": 4,
   "id": "987bc013",
   "metadata": {},
   "outputs": [
    {
     "name": "stdout",
     "output_type": "stream",
     "text": [
      "['Ayu', 'Gita', 'Kendran', 'Adina', 'Leo']\n"
     ]
    }
   ],
   "source": [
    "#============================================================\n",
    "#Mengenai List di Python (1)\n",
    "#============================================================\n",
    "nama_teman = ['Ayu', 'Gita', 'Kendran', 'Adina', 'Leo']\n",
    "\n",
    "print (nama_teman)\n",
    "#Output yang dihasilkan akan menampilkan seluruh isi dari variabel nama_teman"
   ]
  },
  {
   "cell_type": "code",
   "execution_count": 5,
   "id": "6630e7a5",
   "metadata": {},
   "outputs": [
    {
     "name": "stdout",
     "output_type": "stream",
     "text": [
      "Hasil output : Kendran\n"
     ]
    }
   ],
   "source": [
    "#============================================================\n",
    "#Mengenai list di Python (2)\n",
    "#Menampilkan anggota list tertentu\n",
    "#============================================================\n",
    "#Dalam hal ini, Ayu adalah urutan ke [0], Gita urutan ke [1], begitu seterusnya hingga Leo merupakan urutan ke [4]\n",
    "\n",
    "nama_teman = ['Ayu', 'Gita', 'Kendran', 'Adina', 'Leo']\n",
    "print (\"Hasil output : \" + nama_teman [2])\n"
   ]
  },
  {
   "cell_type": "code",
   "execution_count": 6,
   "id": "809a8777",
   "metadata": {},
   "outputs": [
    {
     "name": "stdout",
     "output_type": "stream",
     "text": [
      "Hasil output :Gita\n"
     ]
    }
   ],
   "source": [
    "#Atau bisa juga dinyatakan dari belakang dimana Leo merupakan urutan [-1], Adina urutan [-2], dan seterusnya hingga Ayu adalah urutan [-5]\n",
    "print (\"Hasil output :\" + nama_teman [-4])"
   ]
  },
  {
   "cell_type": "code",
   "execution_count": 7,
   "id": "a2accd8d",
   "metadata": {},
   "outputs": [
    {
     "name": "stdout",
     "output_type": "stream",
     "text": [
      "['Ayu', 'Gita', 'Kendran']\n",
      "['Ayu', 'Gita']\n"
     ]
    }
   ],
   "source": [
    "#List dalam string juga dapat digunakan dengan memanggil anggota tertentu atau urutan tertentu\n",
    "\n",
    "print (nama_teman [0 :3])\n",
    "#Program akan menampilkan urutan list dari urutan ke-0 sampai urutan ke-3\n",
    "\n",
    "print (nama_teman [0 : -3])\n",
    "#akan menampilkan urutan list dari urutan ke-0 sampai dengan urutan sebelum -3"
   ]
  },
  {
   "cell_type": "code",
   "execution_count": 8,
   "id": "47443a72",
   "metadata": {},
   "outputs": [
    {
     "name": "stdout",
     "output_type": "stream",
     "text": [
      "['Ayu', 'Gita', 'Kendran', 'Martini', 'Leo']\n"
     ]
    }
   ],
   "source": [
    "#=============================================================\n",
    "#Mengenai List di Python (3)\n",
    "#Mengganti nilai list tertentu\n",
    "#=============================================================\n",
    "#List bersifat mutable dimana isinya dapat kita ubah-ubah\n",
    "\n",
    "#list mula-mula\n",
    "nama_teman = ['Ayu', 'Gita', 'Kendran', 'Adina', 'Leo']\n",
    "\n",
    "#mengubah nilai dari urutan list (index) ke 3\n",
    "nama_teman [3] = \"Martini\"\n",
    "\n",
    "print (nama_teman)\n",
    "#Index ke-3 yaitu 'Adina' akan berganti menjadi 'Martini'"
   ]
  },
  {
   "cell_type": "code",
   "execution_count": 21,
   "id": "ef06ef50",
   "metadata": {},
   "outputs": [
    {
     "name": "stdout",
     "output_type": "stream",
     "text": [
      "[-1, 0, 1, 2, 3, 3, 9, 10, 11, 12]\n"
     ]
    }
   ],
   "source": [
    "#===================================================================================\n",
    "#Mengenai list di python (3)\n",
    "#List dapat digunakan untuk merepresentasikan tipe data string ataupun berupa angka\n",
    "#====================================================================================\n",
    "\n",
    "#dideklarasikan suatu variabel vektor1 dan vektor2 dengan memuat angka-angka\n",
    "vektor1 = [-1,0,1,2,3]\n",
    "vektor2 = [3,9,10,11,12]\n",
    "#kita bisa menggunakan operasi penjumlahan untuk menggabungkan kedua list tersebut\n",
    "vektor_gabungan = vektor1 + vektor2\n",
    "#dengan perintah print, kita mencetak hasil dari vektor gabungan\n",
    "print (vektor_gabungan)\n",
    "\n",
    "#<<<<<<<<<<<<<<<<<<<<<<<<<<<<<<<<<<<<<<<<<<<<<<<<<<<<<<<<<<<<<<<<<<<<<<<<<<<<<<<<<<<<<<<<<<<<<<<<<<<<\n",
    "#Output yang diberikan adalah adanya pengabungan antara elemen pada vektor 1 dan vektor 2\n",
    "#Adapun angka yang sama akan tetap ditulis 2 kali oleh sistem (tidak seperti gabungan pada himpunan)\n",
    "#Penjumlahan berfungsi menggabungkan seluruh elemen yang terdapat pada list yang ingin digabungkan (bukan menambah antara angka 1 dengan angka lain)\n",
    "#<<<<<<<<<<<<<<<<<<<<<<<<<<<<<<<<<<<<<<<<<<<<<<<<<<<<<<<<<<<<<<<<<<<<<<<<<<<<<<<<<<<<<<<<<<<<<<<<<<<<<<<<<<<<<<<<"
   ]
  },
  {
   "cell_type": "code",
   "execution_count": 22,
   "id": "9a9c9c7e",
   "metadata": {},
   "outputs": [
    {
     "data": {
      "text/plain": [
       "list"
      ]
     },
     "execution_count": 22,
     "metadata": {},
     "output_type": "execute_result"
    }
   ],
   "source": [
    "#===================================================\n",
    "#fungsi 'type'\n",
    "#===================================================\n",
    "\n",
    "#Fungsi 'type' digunakan untuk mengetahui jenis dari variabel yang telah didefinisikan\n",
    "type (vektor_gabungan)"
   ]
  },
  {
   "cell_type": "markdown",
   "id": "04e7fdf2",
   "metadata": {},
   "source": [
    "# 5.13 Metoda List"
   ]
  },
  {
   "cell_type": "markdown",
   "id": "79722870",
   "metadata": {},
   "source": [
    "Karena list merupakan objek, maka keberadaannya dapat dimanipulasi dengan menambahkan atau menghilangkan isi nya."
   ]
  },
  {
   "cell_type": "code",
   "execution_count": 10,
   "id": "28f0a293",
   "metadata": {},
   "outputs": [
    {
     "name": "stdout",
     "output_type": "stream",
     "text": [
      "['Motor', 'Mobil', 'Sepeda', 'Bus', 'Truk']\n"
     ]
    }
   ],
   "source": [
    "#=============================================================\n",
    "#Mengenai Metoda List di Python\n",
    "#Menambahkan item dari belakang\n",
    "#=============================================================\n",
    "\n",
    "#Dideklarasikan variabel kendaraan\n",
    "kendaraan = ['Motor', 'Mobil', 'Sepeda', 'Bus']\n",
    "\n",
    "#dengan menggunakan metode (variabel).append (item), kita dapat menambahkan item tertentu dalam list yang akan terletak paling belakang\n",
    "kendaraan.append ('Truk')\n",
    "print (kendaraan)\n",
    "\n"
   ]
  },
  {
   "cell_type": "code",
   "execution_count": 11,
   "id": "38218c0b",
   "metadata": {},
   "outputs": [
    {
     "name": "stdout",
     "output_type": "stream",
     "text": [
      "['Motor', 'Mobil', 'Skateboard', 'Sepeda', 'Bus', 'Truk']\n"
     ]
    }
   ],
   "source": [
    "#===========================================================\n",
    "#Menambahkan item dari indeks tertentu\n",
    "#dengan menggunakan metode insert(indeks, item) kita dapat menambahkan item dari indeks tertentu\n",
    "#===========================================================\n",
    "\n",
    "#Kita ingin menambahkan kata 'Skateboard' untuk ditempatkan pada indeks ke-2\n",
    "kendaraan.insert (2, 'Skateboard')\n",
    "print (kendaraan)"
   ]
  },
  {
   "cell_type": "code",
   "execution_count": 12,
   "id": "98816830",
   "metadata": {},
   "outputs": [
    {
     "name": "stdout",
     "output_type": "stream",
     "text": [
      "['Motor', 'Mobil', 'Skateboard', 'Sepeda', 'Truk']\n"
     ]
    }
   ],
   "source": [
    "#============================================================\n",
    "#Menghapus item tertentu dari list \n",
    "#dengan menggunakan (variabel).remove (item) kita dapat menghapus item tertentu dari list\n",
    "#============================================================\n",
    "\n",
    "kendaraan.remove ('Bus')\n",
    "print (kendaraan)"
   ]
  },
  {
   "cell_type": "code",
   "execution_count": 23,
   "id": "a2285ffe",
   "metadata": {},
   "outputs": [
    {
     "ename": "ValueError",
     "evalue": "list.remove(x): x not in list",
     "output_type": "error",
     "traceback": [
      "\u001b[1;31m---------------------------------------------------------------------------\u001b[0m",
      "\u001b[1;31mValueError\u001b[0m                                Traceback (most recent call last)",
      "\u001b[1;32m~\\AppData\\Local\\Temp\\ipykernel_900\\1071435364.py\u001b[0m in \u001b[0;36m<module>\u001b[1;34m\u001b[0m\n\u001b[0;32m      2\u001b[0m \u001b[1;31m#Menghapus item tertentu dari list (2)\u001b[0m\u001b[1;33m\u001b[0m\u001b[1;33m\u001b[0m\u001b[0m\n\u001b[0;32m      3\u001b[0m \u001b[1;31m#=============================================================\u001b[0m\u001b[1;33m\u001b[0m\u001b[1;33m\u001b[0m\u001b[0m\n\u001b[1;32m----> 4\u001b[1;33m \u001b[0mkendaraan\u001b[0m\u001b[1;33m.\u001b[0m\u001b[0mremove\u001b[0m \u001b[1;33m(\u001b[0m\u001b[1;34m'bus'\u001b[0m\u001b[1;33m)\u001b[0m\u001b[1;33m\u001b[0m\u001b[1;33m\u001b[0m\u001b[0m\n\u001b[0m\u001b[0;32m      5\u001b[0m \u001b[0mprint\u001b[0m \u001b[1;33m(\u001b[0m\u001b[0mkendaraan\u001b[0m\u001b[1;33m)\u001b[0m\u001b[1;33m\u001b[0m\u001b[1;33m\u001b[0m\u001b[0m\n",
      "\u001b[1;31mValueError\u001b[0m: list.remove(x): x not in list"
     ]
    }
   ],
   "source": [
    "#============================================================\n",
    "#Menghapus item tertentu dari list (2)\n",
    "#=============================================================\n",
    "kendaraan.remove ('bus')\n",
    "print (kendaraan)\n",
    "#Terjadi error karena string yang dimasukkan bukan elemen pada variabel\n",
    "#Kembali perhatikan penggunaan huruf kapital/huruf kecil pada variabel karena program ini cukup sensitif"
   ]
  },
  {
   "cell_type": "code",
   "execution_count": 13,
   "id": "f1be1c8f",
   "metadata": {},
   "outputs": [
    {
     "name": "stdout",
     "output_type": "stream",
     "text": [
      "5\n"
     ]
    }
   ],
   "source": [
    "#============================================================\n",
    "#Menghitung jumlah list dalam variabel\n",
    "#============================================================\n",
    "#fungsi 'len' pada perintah print akan menghitung jumlah list dari variabel\n",
    "\n",
    "print (len(kendaraan))"
   ]
  },
  {
   "cell_type": "code",
   "execution_count": 14,
   "id": "ef91cf5b",
   "metadata": {},
   "outputs": [
    {
     "name": "stdout",
     "output_type": "stream",
     "text": [
      "False\n",
      "True\n"
     ]
    }
   ],
   "source": [
    "#=============================================================\n",
    "#Mengecek kebenaran keberadaan objek dalam list\n",
    "#=============================================================\n",
    "#Disini kita menggunakan kondisi boolean (True or False) sebagai pengendalinya dan dengan menggunakan perintah print\n",
    "#Fungsi 'in' akan menentukan ada atau tidaknya objek dalam list\n",
    "#True akan menunjukkan bahwa suatu objek terdapat dalam variabel list\n",
    "#False akan menunjukkan bahwa suatu objek tidak terdapat dalam variabel list\n",
    "print ('Roda' in kendaraan)\n",
    "print ('Motor' in kendaraan)"
   ]
  },
  {
   "cell_type": "code",
   "execution_count": 15,
   "id": "4ed98fe3",
   "metadata": {},
   "outputs": [
    {
     "name": "stdout",
     "output_type": "stream",
     "text": [
      "False\n"
     ]
    }
   ],
   "source": [
    "print ('motor' in kendaraan)\n",
    "\n",
    "#<<<<<<<<<<<<<<<<<<<<<<<<<<<<<<<<<<<<<<<<<<<<<<<<<<<<<<<<<<<<<<<<<<<<<<<<<<<<<<<<<<<<<<<<<<<<<<<<<<<<<<<<<<<<<<<<<\n",
    "#Perhatikan kesesuaian huruf dan pengetikan karena program ini cukup sensitif\n",
    "#Kata tidak terdapat strings 'M' dalam strings 'Motor', maka sistem akan menganggap tidak ada. \n",
    "#Jadi, data strings atau objek yang dimasukkan haruslah sesuai dengan variabel agar perintah dapat dijalankan\n",
    "#<<<<<<<<<<<<<<<<<<<<<<<<<<<<<<<<<<<<<<<<<<<<<<<<<<<<<<<<<<<<<<<<<<<<<<<<<<<<<<<<<<<<<<<<<<<<<<<<<<<<<<<<<<<<<<<<<"
   ]
  },
  {
   "cell_type": "markdown",
   "id": "4e798738",
   "metadata": {},
   "source": [
    "# 5.14 For Loop\n"
   ]
  },
  {
   "cell_type": "markdown",
   "id": "187198b8",
   "metadata": {},
   "source": [
    "For loop dapat digunakan untuk memanggil semua isi list. For Loop juga dapat digunakan untuk string"
   ]
  },
  {
   "cell_type": "code",
   "execution_count": 16,
   "id": "82ec49ea",
   "metadata": {},
   "outputs": [
    {
     "name": "stdout",
     "output_type": "stream",
     "text": [
      "pensil\n",
      "pulpen\n",
      "penghapus\n",
      "buku\n",
      "jangka\n"
     ]
    }
   ],
   "source": [
    "#===============================================================================\n",
    "#loop for untuk menampilkan elemen dalam sebuah list\n",
    "#===============================================================================\n",
    "\n",
    "#Dideklarasikan variabel 'alat_tulis' yang berisi beberapa list \n",
    "alat_tulis = ['pensil', 'pulpen', 'penghapus', 'buku', 'jangka']\n",
    "\n",
    "for stationary in alat_tulis :\n",
    "    print (stationary)\n",
    "\n",
    "#<<<<<<<<<<<<<<<<<<<<<<<<<<<<<<<<<<<<<<<<<<<<<<<<<<<<<<<<<<<<<<<<<<<<<<<<<<<<<<<<<<<<<<<<<<<<<\n",
    "#Pada contoh diata, loop for akan melakukan iterasi untuk setiap elemen di dalam list 'alat_tulis'\n",
    "#setiap elemen akan disimpan dalam variabel 'stationary'\n",
    "#print statement terakhir akan mencetak nilai dari variabel 'stationary'\n",
    "#<<<<<<<<<<<<<<<<<<<<<<<<<<<<<<<<<<<<<<<<<<<<<<<<<<<<<<<<<<<<<<<<<<<<<<<<<<<<<<<<<<<<<<<<<<<<<"
   ]
  },
  {
   "cell_type": "code",
   "execution_count": 11,
   "id": "ac643d66",
   "metadata": {},
   "outputs": [
    {
     "name": "stdout",
     "output_type": "stream",
     "text": [
      "27\n",
      "125\n",
      "343\n",
      "729\n",
      "1331\n"
     ]
    }
   ],
   "source": [
    "#===================================================================================\n",
    "#Penggunaan Loop for tanpa mendeklarasikan list\n",
    "#kita bisa memanggil anggota list dengan menggunakan for tanpa dideklarasikan.\n",
    "#Tetapi, kita harus memberikan list elemen pada pemanggilannya\n",
    "#===================================================================================\n",
    "#pemanggilan variabel 'ayam' dengan list beberapa angka \n",
    "for ayam in [3,5,7,9,11] :\n",
    "#akan dieksekusi nilai elemen 'ayam' menjadi elemen 'hutan' dengan operasi ayam**3\n",
    "    hutan = ayam**3\n",
    "    print (hutan)\n",
    "#elemen pada variabel 'ayam' akan dieksekusi sesuai dengan operasi yang diminta sehingga output yang diberikan adalah setiap elemen ayam dipangkatkan tiga"
   ]
  },
  {
   "cell_type": "code",
   "execution_count": 12,
   "id": "e319b22f",
   "metadata": {},
   "outputs": [
    {
     "name": "stdout",
     "output_type": "stream",
     "text": [
      "K\n",
      "a\n",
      "m\n",
      "a\n",
      "r\n",
      "t\n",
      "i\n",
      "n\n",
      "i\n"
     ]
    }
   ],
   "source": [
    "#===========================================================\n",
    "#List masing-masing huruf pada data string\n",
    "#===========================================================\n",
    "\n",
    "#Dideklarasikan suatu variabel nama \n",
    "nama = 'Kamartini'\n",
    "#kita bisa membuat list dari huruf-huruf penyusun kata tersebut dengan for loop\n",
    "for ejaan in nama :\n",
    "    print (ejaan)"
   ]
  },
  {
   "cell_type": "code",
   "execution_count": 5,
   "id": "c7a11c21",
   "metadata": {},
   "outputs": [
    {
     "name": "stdout",
     "output_type": "stream",
     "text": [
      "1\n",
      "2\n",
      "3\n",
      "4\n",
      "tidak diketahui\n",
      "5\n",
      "6\n",
      "7\n",
      "8\n"
     ]
    }
   ],
   "source": [
    "#============================================================\n",
    "#Gabungan While dan For\n",
    "#============================================================\n",
    "\n",
    "p = 0\n",
    "while p < 8 :\n",
    "    p+=1\n",
    "    \n",
    "#saat p = 5, akan dicetak kata 'tidak diketahui' sehingga kita menggunakan perintah if\n",
    "    if p == 5 :\n",
    "        print ('tidak diketahui')\n",
    "#setelah p = 5 tersebut, akan dilanjytkan dengan eksekusi dari operator while loop\n",
    "    print (p)"
   ]
  },
  {
   "cell_type": "markdown",
   "id": "9568be76",
   "metadata": {},
   "source": [
    "# 5.15 Fungsi Range"
   ]
  },
  {
   "cell_type": "markdown",
   "id": "50ea024b",
   "metadata": {},
   "source": [
    "Fungsi range berguna untuk membangkitkan bilangan berurutan atau berpola yang kita inginkan. Untuk menuliskannya, perlu dikombinasikan dengan for loop"
   ]
  },
  {
   "cell_type": "code",
   "execution_count": 17,
   "id": "7bfe5b95",
   "metadata": {},
   "outputs": [
    {
     "name": "stdout",
     "output_type": "stream",
     "text": [
      "range(0, 8)\n"
     ]
    }
   ],
   "source": [
    "#===========================================================\n",
    "#Menampilkan sebuah list baru dengan rentang nilai tertentu\n",
    "#============================================================\n",
    "#Dideklarasikan suatu variabel dengan range tertentu\n",
    "\n",
    "angka = range (8)\n",
    "print (angka)\n",
    "\n",
    "#<<<<<<<<<<<<<<<<<<<<<<<<<<<<<<<<<<<<<<<<<<<<<<<<<<<<<<<<<<<<\n",
    "#Jika kita menggunakan range () maka sistem akan mengasumsikan start = 0\n",
    "#Sehingga akan menghasilkan output range (0,8)"
   ]
  },
  {
   "cell_type": "code",
   "execution_count": 25,
   "id": "e5d4d925",
   "metadata": {},
   "outputs": [
    {
     "name": "stdout",
     "output_type": "stream",
     "text": [
      "0\n",
      "1\n",
      "2\n",
      "3\n",
      "4\n",
      "5\n",
      "6\n",
      "7\n"
     ]
    }
   ],
   "source": [
    "#============================================================\n",
    "#Memanggil anggota dengan menggunakan range dan for\n",
    "#============================================================\n",
    "#Kita bisa memanggil anggota dengan menggunakan suatu variabel\n",
    "for bilangan in range (len(angka)) :\n",
    "#fungsi range disini berfungsi membangkitkan urutan yang kita inginkan\n",
    "    print(angka[bilangan])"
   ]
  },
  {
   "cell_type": "code",
   "execution_count": 10,
   "id": "88ed2608",
   "metadata": {},
   "outputs": [
    {
     "name": "stdout",
     "output_type": "stream",
     "text": [
      "urutan 1 :\n",
      "2\n",
      "3\n",
      "4\n",
      "5\n",
      "urutan 2 : \n",
      "1\n",
      "3\n",
      "5\n"
     ]
    }
   ],
   "source": [
    "#============================================================\n",
    "#Memanggil elemen dengan index tertentu dengan menggunakan 'for'\n",
    "#============================================================\n",
    "\n",
    "print ('urutan 1 :')\n",
    "#kita akan memanggil elemen dengan index ke-2 sampai index ke-5\n",
    "for urutan1 in range (2,6):\n",
    "    print (urutan1)\n",
    "\n",
    "    \n",
    "print ('urutan 2 : ')\n",
    "#kita akan memanggil elemen dengan index ke-1 sampai 6 dengan loncat 2\n",
    "for urutan2 in range (1,7,2) :\n",
    "# Angka 1 menunjukkan index dimulainya output\n",
    "# Angka 7 menunjukkan angka berakhirnya output (namun yg dihasilkan sebelum angka 7)\n",
    "# Angka 2 menunjukkan loncat\n",
    "    print (urutan2)"
   ]
  },
  {
   "cell_type": "code",
   "execution_count": 18,
   "id": "d50a8d96",
   "metadata": {},
   "outputs": [
    {
     "name": "stdout",
     "output_type": "stream",
     "text": [
      "0\n",
      "1\n",
      "2\n",
      "3\n",
      "4\n"
     ]
    }
   ],
   "source": [
    "#======================================================================\n",
    "#Fungsi range sering digunakan sebagai counter dari pengulangan for \n",
    "#Counter adalah sebuah variabel yang menyimpan hitungan\n",
    "#Berikut contoh program dengan satu argumen\n",
    "#======================================================================\n",
    "for bilangan in range (5) :\n",
    "    print (bilangan)\n",
    "    \n",
    "#<<<<<<<<<<<<<<<<<<<<<<<<<<<<<<<<<<<<<<<<<<<<<<<<<<<<<<<<<<<<<<<<<<<<<<<<<<<<<<<<<<<<<<<<<<<<<<<<<<<<<<<<<<<<<<<<<\n",
    "#Pada program diatas kita meminta nilai dari 0 sampai dengan 4 (bilangan sebelum 5)\n",
    "#Nilai 5 tidak diikutsertakan karena nilai 5 merupakan argumen stop atau batas akhir dari nilai yang diinginkan\n",
    "#Nilai dari stp tidak termasuk ke dalam nilai yang dibuatkan oleh fungsi range\n",
    "#<<<<<<<<<<<<<<<<<<<<<<<<<<<<<<<<<<<<<<<<<<<<<<<<<<<<<<<<<<<<<<<<<<<<<<<<<<<<<<<<<<<<<<<<<<<<<<<<<<<<<<<<<<<<<<<<<"
   ]
  },
  {
   "cell_type": "code",
   "execution_count": 19,
   "id": "d02af259",
   "metadata": {},
   "outputs": [
    {
     "name": "stdout",
     "output_type": "stream",
     "text": [
      "-3 ,-2 ,-1 ,0 ,1 ,2 ,3 ,4 ,5 ,6 ,7 ,"
     ]
    }
   ],
   "source": [
    "#==========================================================\n",
    "#Contoh fungsi range dengan dua argumen dan dengan for loop\n",
    "#==========================================================\n",
    "for bilangan in range (-3, 8) :\n",
    "    print (bilangan, end = ' ,') #agar output yang hasilkan berupa list dengan tanda pemisah ','\n",
    "    \n",
    "#<<<<<<<<<<<<<<<<<<<<<<<<<<<<<<<<<<<<<<<<<<<<<<<<<<<<<<<<<<<<<<<<<<<<<<<<<<<<<<<<<<<<<<<<<\n",
    "#Output akan menghasilkan urutan bilangan bulat dari -3 hingga 7\n",
    "#for akan mengeksekusi blok kode dalam tubuh loop untuk setiap elemen dalam urutan ini\n",
    "#variabel 'i' akan diatur ke nilai dari setiap elemen yang berurutan"
   ]
  }
 ],
 "metadata": {
  "kernelspec": {
   "display_name": "Python 3 (ipykernel)",
   "language": "python",
   "name": "python3"
  },
  "language_info": {
   "codemirror_mode": {
    "name": "ipython",
    "version": 3
   },
   "file_extension": ".py",
   "mimetype": "text/x-python",
   "name": "python",
   "nbconvert_exporter": "python",
   "pygments_lexer": "ipython3",
   "version": "3.9.13"
  }
 },
 "nbformat": 4,
 "nbformat_minor": 5
}
