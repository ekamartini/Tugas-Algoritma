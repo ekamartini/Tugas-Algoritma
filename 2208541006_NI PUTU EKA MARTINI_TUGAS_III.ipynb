{
 "cells": [
  {
   "cell_type": "markdown",
   "id": "3c150b76",
   "metadata": {},
   "source": [
    "# 5.5 Strings Index"
   ]
  },
  {
   "cell_type": "markdown",
   "id": "f1c75f35",
   "metadata": {},
   "source": [
    "- String index ini semacam nomor urut, urutannya dari 0,1,2,3,4,5 …seterusnya. \n",
    "- Misalkan 'Eka' sehingga\n",
    "E = Index ke-0, \n",
    "k = Index ke-1,\n",
    "a = Index ke-2\n",
    "- Spasi dalam kalimat juga termasuk index dalam program ini\n",
    "- Index bisa dimulai dari kiri maupun dari kanan\n",
    "- Jika dimulai dari kiri ke kanan maka index-nya dimulai dari 0,1,2,3,...\n",
    "- Jika dimuali dari kanan ke kiri maka index-nya dimulai dari -1 (paling kanan), -2,-3,..."
   ]
  },
  {
   "cell_type": "code",
   "execution_count": 5,
   "id": "bfdaf519",
   "metadata": {},
   "outputs": [],
   "source": [
    "#latihan Strings Index\n",
    "kondisi = 'saya ingin belajar algoritma' \n",
    "#Masukkan string ke variabel kondisi"
   ]
  },
  {
   "cell_type": "code",
   "execution_count": 6,
   "id": "da8cb792",
   "metadata": {},
   "outputs": [
    {
     "name": "stdout",
     "output_type": "stream",
     "text": [
      "saya\n",
      "ingin belajar algoritm\n",
      "saya ingin belajar algoritm\n",
      "saya ingin belajar algoritma\n",
      "ibrr\n",
      " ingin belajar algoritma\n"
     ]
    }
   ],
   "source": [
    "print (kondisi[0:4])\n",
    "#Menampilkan index ke-0 sampai dengan index ke-4\n",
    "print (kondisi[5:-1])\n",
    "#Menampilkan index ke-5 sampai sebelum index -1\n",
    "print (kondisi[:-1])\n",
    "#Dianggap dari index paling kiri atau index ke-0 sampai sebelum index -1\n",
    "print (kondisi[ : ])\n",
    "#Menampilkan semua string dalam variabel\n",
    "print (kondisi [5 :-3 : 6])\n",
    "#2 angka di depan berfungsi sebagai panjang batas index\n",
    "#angka paling belakang adalah loncat\n",
    "#Hasil yang ditampilkan adalah string dari 5 sampai sebelum -3 dengan loncat 5\n",
    "print (kondisi [4 :])\n",
    "#Menampilkan dari index 4 sampai selesai.\n"
   ]
  },
  {
   "cell_type": "code",
   "execution_count": 8,
   "id": "d02e276b",
   "metadata": {},
   "outputs": [
    {
     "name": "stdout",
     "output_type": "stream",
     "text": [
      "\n"
     ]
    }
   ],
   "source": [
    "print (kondisi[-5 : 2])\n",
    "#Output yang dihasilkan adalah output kosong namun tidak error\n",
    "#karena seharusnya diurutkan dari positif ke negatif"
   ]
  },
  {
   "cell_type": "code",
   "execution_count": 10,
   "id": "50afae25",
   "metadata": {},
   "outputs": [
    {
     "name": "stdout",
     "output_type": "stream",
     "text": [
      "ritma\n"
     ]
    }
   ],
   "source": [
    "print (kondisi [-5:])\n",
    "#Menampilkan string dari variabel dari index -5 sampai -1"
   ]
  },
  {
   "cell_type": "code",
   "execution_count": 12,
   "id": "a249623c",
   "metadata": {},
   "outputs": [],
   "source": [
    "lahir = 'Saya lahir pada 29 Maret 2004 di Badung'"
   ]
  },
  {
   "cell_type": "code",
   "execution_count": 13,
   "id": "2d898563",
   "metadata": {},
   "outputs": [
    {
     "name": "stdout",
     "output_type": "stream",
     "text": [
      "29 Maret 2004 di Badung\n",
      "Saya lahir\n",
      "ya a e0da\n",
      "Badun\n",
      "\n",
      " Badung\n"
     ]
    }
   ],
   "source": [
    "print (lahir [16 :])\n",
    "print (lahir [:10])\n",
    "print (lahir[2 : -1 : 4])\n",
    "print (lahir [-6 :-1])\n",
    "print (lahir [-6 :3])\n",
    "print (lahir[-7: ])"
   ]
  },
  {
   "cell_type": "markdown",
   "id": "75c4ac7d",
   "metadata": {},
   "source": [
    "# 5.6 Strings Methods"
   ]
  },
  {
   "cell_type": "code",
   "execution_count": 10,
   "id": "812d51b8",
   "metadata": {},
   "outputs": [],
   "source": [
    "#Latihan String Methods\n",
    "kalimat = 'Jerome Polin merupakan seorang youtuber matematika'\n",
    "#Masukkan string ke variabel kalimat"
   ]
  },
  {
   "cell_type": "code",
   "execution_count": 11,
   "id": "d16e6aba",
   "metadata": {},
   "outputs": [
    {
     "name": "stdout",
     "output_type": "stream",
     "text": [
      "50\n"
     ]
    }
   ],
   "source": [
    "#Menghitung jumlah karakter pada variabel \n",
    "print(len(kalimat))"
   ]
  },
  {
   "cell_type": "code",
   "execution_count": 12,
   "id": "f968021b",
   "metadata": {},
   "outputs": [
    {
     "data": {
      "text/plain": [
       "'Jerome polin merupakan seorang youtuber matematika'"
      ]
     },
     "execution_count": 12,
     "metadata": {},
     "output_type": "execute_result"
    }
   ],
   "source": [
    "#'capitalize' digunakan mengubah karakter pertama pada huruf pertama menjadi huruf besar.\n",
    "kalimat.capitalize()"
   ]
  },
  {
   "cell_type": "code",
   "execution_count": 13,
   "id": "6685cd55",
   "metadata": {},
   "outputs": [
    {
     "data": {
      "text/plain": [
       "'JEROME POLIN MERUPAKAN SEORANG YOUTUBER MATEMATIKA'"
      ]
     },
     "execution_count": 13,
     "metadata": {},
     "output_type": "execute_result"
    }
   ],
   "source": [
    "#'upper' digunakan untuk mengubah seluruh karakter pada string menjadi huruf kapital\n",
    "kalimat.upper()"
   ]
  },
  {
   "cell_type": "code",
   "execution_count": 14,
   "id": "b773621b",
   "metadata": {},
   "outputs": [
    {
     "data": {
      "text/plain": [
       "'jerome polin merupakan seorang youtuber matematika'"
      ]
     },
     "execution_count": 14,
     "metadata": {},
     "output_type": "execute_result"
    }
   ],
   "source": [
    "#'lower' digunakan untuk mengubah seluruh karakter pada string menjadi huruf kecil\n",
    "kalimat.lower()"
   ]
  },
  {
   "cell_type": "code",
   "execution_count": 7,
   "id": "1f35bff8",
   "metadata": {},
   "outputs": [
    {
     "data": {
      "text/plain": [
       "7"
      ]
     },
     "execution_count": 7,
     "metadata": {},
     "output_type": "execute_result"
    }
   ],
   "source": [
    "#'find' berfungsi mencari string untuk suatu nilai tertentu dimana akan menampilkan posisi dimana karakter ditemukan\n",
    "kalimat.find ('Polin')\n"
   ]
  },
  {
   "cell_type": "code",
   "execution_count": 8,
   "id": "8e12c08f",
   "metadata": {},
   "outputs": [
    {
     "data": {
      "text/plain": [
       "-1"
      ]
     },
     "execution_count": 8,
     "metadata": {},
     "output_type": "execute_result"
    }
   ],
   "source": [
    "#Jika string tidak ditemukan maka akan menampilkan output -1\n",
    "#Perlu diperhatikan mengenai penggunaan huruf kapital saat mencari karena program cukup sensitif\n",
    "kalimat.find ('polin')\n",
    "#Dalam hal ini jika 'jerome' tidak ditemukan (-1) karena pada variabel 'J' huruf besar"
   ]
  },
  {
   "cell_type": "code",
   "execution_count": 23,
   "id": "13d84daf",
   "metadata": {},
   "outputs": [
    {
     "data": {
      "text/plain": [
       "'Jerome Polin merupakan seorang youtuber Bahasa Jepang'"
      ]
     },
     "execution_count": 23,
     "metadata": {},
     "output_type": "execute_result"
    }
   ],
   "source": [
    "#'replace' akan mengubah kata dalam variabel menjadi kata yang baru\n",
    "\n",
    "kalimat.replace ('matematika', 'Bahasa Jepang') \n",
    "\n",
    "#Output yang dihasilkan yaitu kata matematika akan berubah menjadi Bahasa Jepang"
   ]
  },
  {
   "cell_type": "code",
   "execution_count": 24,
   "id": "7e9afc0a",
   "metadata": {},
   "outputs": [
    {
     "data": {
      "text/plain": [
       "'Jerome Polin merupakan seorang youtuber matematika'"
      ]
     },
     "execution_count": 24,
     "metadata": {},
     "output_type": "execute_result"
    }
   ],
   "source": [
    "#Perhatikan penggunaan huruf kapital karena bisa saja kata tidak terdeteksi pada program\n",
    "kalimat.replace ('Matematika', 'Bahasa Jepang')\n",
    "#Output string yang dihasilkan akan sama seperti variabel kalimat karena pada variabel huruf 'm' pada matematika adalah huruf kecil sehingga tidak terdeteksi"
   ]
  },
  {
   "cell_type": "code",
   "execution_count": 9,
   "id": "1c25f5e3",
   "metadata": {},
   "outputs": [
    {
     "name": "stdout",
     "output_type": "stream",
     "text": [
      "True\n",
      "False\n"
     ]
    }
   ],
   "source": [
    "#mendeteksi kebenaran keberadaan kata dalam variabel\n",
    "print ('youtuber' in kalimat) #akan menampilkan 'true' karena ada dalam variabel\n",
    "print ('Youtuber' in kalimat) #akan menampilkan 'false' karena program sensitif untuk pengenalan huruf kapital sehingga dianggap tidak ada"
   ]
  },
  {
   "cell_type": "code",
   "execution_count": 15,
   "id": "296cfd1d",
   "metadata": {},
   "outputs": [],
   "source": [
    "lirik = \"Jalan yang Jauh Jangan Lupa Pulang\""
   ]
  },
  {
   "cell_type": "code",
   "execution_count": 16,
   "id": "c93015a9",
   "metadata": {},
   "outputs": [
    {
     "name": "stdout",
     "output_type": "stream",
     "text": [
      "34\n",
      "False\n",
      "False\n"
     ]
    }
   ],
   "source": [
    "print(len(lirik))\n",
    "print ('Jauh' in kalimat)\n",
    "print ('pulang' in kalimat)"
   ]
  },
  {
   "cell_type": "code",
   "execution_count": 20,
   "id": "b0b9ba9b",
   "metadata": {
    "scrolled": true
   },
   "outputs": [
    {
     "data": {
      "text/plain": [
       "'jalan yang jauh jangan lupa pulang'"
      ]
     },
     "execution_count": 20,
     "metadata": {},
     "output_type": "execute_result"
    }
   ],
   "source": [
    "lirik.lower()"
   ]
  },
  {
   "cell_type": "code",
   "execution_count": 19,
   "id": "db63618e",
   "metadata": {},
   "outputs": [
    {
     "data": {
      "text/plain": [
       "16"
      ]
     },
     "execution_count": 19,
     "metadata": {},
     "output_type": "execute_result"
    }
   ],
   "source": [
    "lirik.find('Jangan')"
   ]
  },
  {
   "cell_type": "code",
   "execution_count": 21,
   "id": "1f74e2b1",
   "metadata": {},
   "outputs": [
    {
     "data": {
      "text/plain": [
       "'JALAN YANG JAUH JANGAN LUPA PULANG'"
      ]
     },
     "execution_count": 21,
     "metadata": {},
     "output_type": "execute_result"
    }
   ],
   "source": [
    "lirik.upper()"
   ]
  },
  {
   "cell_type": "code",
   "execution_count": 22,
   "id": "7488b34b",
   "metadata": {},
   "outputs": [
    {
     "data": {
      "text/plain": [
       "'Jalan yang jauh jangan lupa pulang'"
      ]
     },
     "execution_count": 22,
     "metadata": {},
     "output_type": "execute_result"
    }
   ],
   "source": [
    "lirik.capitalize ()"
   ]
  },
  {
   "cell_type": "code",
   "execution_count": 25,
   "id": "a2247cbe",
   "metadata": {},
   "outputs": [
    {
     "data": {
      "text/plain": [
       "'Jalan yang Jauh Jangan Lupa Makan'"
      ]
     },
     "execution_count": 25,
     "metadata": {},
     "output_type": "execute_result"
    }
   ],
   "source": [
    "lirik.replace ('Pulang', 'Makan')"
   ]
  },
  {
   "cell_type": "code",
   "execution_count": 26,
   "id": "d90de6d3",
   "metadata": {
    "scrolled": true
   },
   "outputs": [
    {
     "data": {
      "text/plain": [
       "'Jalan yang Jauh Jangan Lupa Pulang'"
      ]
     },
     "execution_count": 26,
     "metadata": {},
     "output_type": "execute_result"
    }
   ],
   "source": [
    "lirik.replace ('pulang', 'Makan')"
   ]
  },
  {
   "cell_type": "markdown",
   "id": "654ae01b",
   "metadata": {},
   "source": [
    "# 5.7 Operasi Matematika di Python"
   ]
  },
  {
   "cell_type": "markdown",
   "id": "21f6911b",
   "metadata": {},
   "source": [
    "Operasi matematika ini paling sering digunakan dalam bahasa pemrograman termasuk python\n",
    "- Penjumlahan (+), contoh: 2+3 = 3\n",
    "- Pengurangan (-), contoh: 2-3 = -1\n",
    "- Perkalian (), contoh: 23 = 6\n",
    "- Pembagian (/), contoh: 7/3 = 2.3333333\n",
    "- Pembulatan pembagian (//), contoh: 7//3 = 2\n",
    "- Modulo (%), contoh: 7%3 = 1\n",
    "- Pemangkatan (), contoh: 23 = 8\n",
    "- Augmented operator: contoh: x = 3, x+ = 1 artinya x = x + 1. Berlaku juga pada pengurangan dan perkalian."
   ]
  },
  {
   "cell_type": "code",
   "execution_count": 27,
   "id": "86a9b477",
   "metadata": {},
   "outputs": [
    {
     "name": "stdout",
     "output_type": "stream",
     "text": [
      "17\n",
      "13\n",
      "30\n",
      "7.5\n",
      "7\n",
      "1\n",
      "225\n",
      "4\n",
      "2\n",
      "6\n"
     ]
    }
   ],
   "source": [
    "print (15+2) #penjumlahan\n",
    "print (15-2) #pengurangan\n",
    "print (15*2) #perkalian\n",
    "print (15/2) #pembagian\n",
    "print (15//2) #pembulatan pembagian\n",
    "print (15%2) #modulo\n",
    "print (15**2) # pemangkatan\n",
    "\n",
    "#augmented operator\n",
    "x = 3\n",
    "x+= 1\n",
    "print (x)\n",
    "x-= 2\n",
    "print (x)\n",
    "x*= 3\n",
    "print (x)"
   ]
  },
  {
   "cell_type": "code",
   "execution_count": 15,
   "id": "afac1b7f",
   "metadata": {},
   "outputs": [
    {
     "name": "stdout",
     "output_type": "stream",
     "text": [
      "Masukkan nilai a : 3\n",
      "Masukkan nilai b : 4\n",
      "7\n",
      "-1\n",
      "12\n",
      "0.75\n",
      "0\n",
      "3\n",
      "81\n"
     ]
    }
   ],
   "source": [
    "a = input ('Masukkan nilai a : ')\n",
    "b = input ('Masukkan nilai b : ')\n",
    "\n",
    "#penjumlahan\n",
    "print (int(a)+int(b))\n",
    "\n",
    "#pengurangan\n",
    "print (int(a)-int(b))\n",
    "\n",
    "#perkalian\n",
    "print (int(a)*int(b))\n",
    "\n",
    "#pembagian\n",
    "print (int(a)/int(b))\n",
    "\n",
    "#pembulatan pembagian\n",
    "print (int(a)//int(b))\n",
    "\n",
    "#modulo\n",
    "print (int(a)%int(b))\n",
    "\n",
    "#pemangkatan\n",
    "print (int (a)**int(b))\n"
   ]
  },
  {
   "cell_type": "code",
   "execution_count": 22,
   "id": "bc6234aa",
   "metadata": {},
   "outputs": [
    {
     "name": "stdout",
     "output_type": "stream",
     "text": [
      "7\n",
      "17\n",
      "10\n"
     ]
    }
   ],
   "source": [
    "#augmented operator pada operasi penjumlahan dan pengurangan\n",
    "x = 10\n",
    "y = 12\n",
    "\n",
    "x-=3\n",
    "#berarti x = x-3\n",
    "y+=5\n",
    "#berarti y = y+5\n",
    "print (x)\n",
    "print (y)\n",
    "\n",
    "y-=x\n",
    "#akan dibaca y = y-x\n",
    "print (y)\n",
    "#Output yang dihasilkan menggunakan x dan y setelah di run. Sehingga x =7 dan y =17\n",
    "#Maka y = 17-7=10"
   ]
  },
  {
   "cell_type": "code",
   "execution_count": 35,
   "id": "a7e2765a",
   "metadata": {},
   "outputs": [
    {
     "name": "stdout",
     "output_type": "stream",
     "text": [
      "12\n",
      "49\n"
     ]
    }
   ],
   "source": [
    "#augmented operator pada operasi perkalian\n",
    "x = 2\n",
    "y = 7\n",
    "\n",
    "x*=6\n",
    "y*=7\n",
    "\n",
    "print (x)\n",
    "print (y)"
   ]
  },
  {
   "cell_type": "markdown",
   "id": "9e8f640b",
   "metadata": {},
   "source": [
    "# 5.8 Operator Perbandingan di Python"
   ]
  },
  {
   "cell_type": "markdown",
   "id": "d971b4b1",
   "metadata": {},
   "source": [
    "Operator perbandingan akan menghasilkan tipe data boolean yaitu antara True atau False \n",
    "Beberapa operator perbandingan pada Python adalah:\n",
    "\n",
    "- Lebih besar (>), contoh: x = 3 > 2\n",
    "- Lebih kecil (<), contoh: x = 2 < 3\n",
    "- Lebih besar sama dengan (>=), contoh: x = 3 >= 2\n",
    "- Lebih kecil sama dengan (<=), contoh: x = 2 <= 3\n",
    "- Sama dengan (==), contoh: x = 3 == 3\n",
    "- Tidak sama dengan (!=), contoh: x = 3 != 4"
   ]
  },
  {
   "cell_type": "code",
   "execution_count": 37,
   "id": "76ccb8d2",
   "metadata": {},
   "outputs": [
    {
     "name": "stdout",
     "output_type": "stream",
     "text": [
      "True\n",
      "False\n",
      "True\n",
      "False\n",
      "True\n",
      "True\n"
     ]
    }
   ],
   "source": [
    "#lebih dari\n",
    "x = 4>3\n",
    "print (x) \n",
    "\n",
    "#kurang dari\n",
    "x = 4<3\n",
    "print (x)\n",
    "\n",
    "#lebih dari sama dengan\n",
    "x = 4>=3\n",
    "print (x)\n",
    "\n",
    "#kurang dari sama dengan\n",
    "x = 4<=3\n",
    "print (x)\n",
    "\n",
    "#sama dengan\n",
    "x = 4==4\n",
    "print (x)\n",
    "\n",
    "#tidak sama dengan\n",
    "x = 3 != 4\n",
    "print (x)"
   ]
  },
  {
   "cell_type": "code",
   "execution_count": 36,
   "id": "ceaefeab",
   "metadata": {},
   "outputs": [
    {
     "name": "stdout",
     "output_type": "stream",
     "text": [
      "False\n",
      "False\n",
      "False\n",
      "True\n",
      "False\n",
      "False\n"
     ]
    }
   ],
   "source": [
    "x = 3>4\n",
    "print (x)\n",
    "x = 4<3\n",
    "print (x)\n",
    "x = 3>=4\n",
    "print (x)\n",
    "x = 3<=4\n",
    "print (x)\n",
    "x = 3==4\n",
    "print (x)\n",
    "x = 3 != 3\n",
    "print (x)"
   ]
  },
  {
   "cell_type": "code",
   "execution_count": 39,
   "id": "45a0af5e",
   "metadata": {
    "scrolled": true
   },
   "outputs": [
    {
     "name": "stdout",
     "output_type": "stream",
     "text": [
      "False\n",
      "-1\n",
      "True\n",
      "-2\n"
     ]
    }
   ],
   "source": [
    "#simbol '~' digunakan untuk menyatakan negasi\n",
    "x= 4==5\n",
    "y= 6==6\n",
    "\n",
    "print (x)\n",
    "print (~x)\n",
    "print (y)\n",
    "print (~y)\n",
    "#simbol '~' akan menampilkan output -1 yang artinya true atau -2 artinya false"
   ]
  },
  {
   "cell_type": "code",
   "execution_count": 40,
   "id": "ca076c57",
   "metadata": {},
   "outputs": [
    {
     "name": "stdout",
     "output_type": "stream",
     "text": [
      "True\n",
      "-1\n",
      "False\n",
      "0\n"
     ]
    }
   ],
   "source": [
    "# simbol '-' juga digunakan untuk menyatakan negasi\n",
    "x = 4 < 5\n",
    "y = 0 > 1\n",
    "\n",
    "print (x)\n",
    "print (-x)\n",
    "print (y)\n",
    "print (-y)\n",
    "\n",
    "#simbol '-' akan menampilkan output 0 untuk true atau -1 untuk false"
   ]
  },
  {
   "cell_type": "markdown",
   "id": "dc193474",
   "metadata": {},
   "source": [
    "# 5.9 Operator Logika di Python"
   ]
  },
  {
   "cell_type": "markdown",
   "id": "82c1d217",
   "metadata": {},
   "source": [
    "Beberapa operator logika pada Python adalah and, or dan not. Operator Logika akan menampilkan tipe data boolean yang bernilai True atau false\n",
    "\n",
    "- Operator and akan bernilai True jika kedua nilai adalah True,\n",
    "- Operator or akan bernilai True jika salah satu nilainya adalah True.\n",
    "- Operator not akan menghasilkan nilai berlawanan atau negasi."
   ]
  },
  {
   "cell_type": "code",
   "execution_count": 33,
   "id": "2449b27d",
   "metadata": {},
   "outputs": [
    {
     "name": "stdout",
     "output_type": "stream",
     "text": [
      "False\n"
     ]
    }
   ],
   "source": [
    "pensil = 20\n",
    "buku = 25\n",
    "print (buku > 5 and pensil <15)\n",
    "#hasilnya akan bernilai false karena salah satu pernyataan salah. Adapun pernyataan yang salah yaitu 'pensil < 15'\n"
   ]
  },
  {
   "cell_type": "code",
   "execution_count": 34,
   "id": "bba2871c",
   "metadata": {},
   "outputs": [
    {
     "name": "stdout",
     "output_type": "stream",
     "text": [
      "True\n"
     ]
    }
   ],
   "source": [
    "pensil = 20\n",
    "buku = 25\n",
    "print (buku > 5 and pensil >15)\n",
    "#hasilnya akan bernilai true karena kedua pernyataan bernilai benar"
   ]
  },
  {
   "cell_type": "code",
   "execution_count": 30,
   "id": "2d9669d2",
   "metadata": {},
   "outputs": [
    {
     "name": "stdout",
     "output_type": "stream",
     "text": [
      "True\n"
     ]
    }
   ],
   "source": [
    "pensil = 20\n",
    "buku = 25\n",
    "print (buku > 5 or pensil <15)\n",
    "#hasilnya akan bernilai True karena salah satu pernyataan bernilai benar"
   ]
  },
  {
   "cell_type": "code",
   "execution_count": 42,
   "id": "696f9dd9",
   "metadata": {},
   "outputs": [
    {
     "name": "stdout",
     "output_type": "stream",
     "text": [
      "False\n"
     ]
    }
   ],
   "source": [
    "pensil = 20\n",
    "buku = 25\n",
    "print (buku < 5 or pensil <15)\n",
    "#hasilnya akan bernilai false karena kedua pernyataan bernilai salah"
   ]
  },
  {
   "cell_type": "code",
   "execution_count": 36,
   "id": "c1822a8e",
   "metadata": {},
   "outputs": [
    {
     "name": "stdout",
     "output_type": "stream",
     "text": [
      "False\n"
     ]
    }
   ],
   "source": [
    "print (not(buku > 5 or pensil <15))\n",
    "#harusnya ini true tetapi karena menggunakan operator not maka hasilnya akan berlawanan atau negasi dari true, yaitu false"
   ]
  },
  {
   "cell_type": "code",
   "execution_count": 44,
   "id": "71fdb0fe",
   "metadata": {},
   "outputs": [
    {
     "name": "stdout",
     "output_type": "stream",
     "text": [
      "-2\n",
      "0\n"
     ]
    }
   ],
   "source": [
    "#Sama seperti operator perbandingan, kita juga bisa menggunakan simbol '~' dan '-'  untuk menyatakan negasi\n",
    "x = 9\n",
    "y = 15\n",
    "print (~(x > 8 or y >10))\n",
    "print (-(x<8 or y <10))"
   ]
  },
  {
   "cell_type": "markdown",
   "id": "49ef67a5",
   "metadata": {},
   "source": [
    "# 5.10 Operator if di Python"
   ]
  },
  {
   "cell_type": "code",
   "execution_count": 7,
   "id": "856e6c58",
   "metadata": {},
   "outputs": [
    {
     "name": "stdout",
     "output_type": "stream",
     "text": [
      "Masukkan nilaimu :E\n",
      "berjanjilah kamu tidak akan mendapat huruf ini lagi!\n"
     ]
    }
   ],
   "source": [
    "nilai = str (input (\"Masukkan nilaimu :\"))\n",
    "if nilai == 'A' :\n",
    "    print (\"Nilai kamu sangat baik. Pertahankan!\")\n",
    "if nilai == 'B+' :\n",
    "    print (\"Memuaskan. Tingkatkan lagi!\") \n",
    "if nilai  == 'B' :\n",
    "    print (\"Tidak buruk, selanjutnya harus lebih baik\")\n",
    "if nilai == 'C+' :\n",
    "    print (\"Oke, kamu harus belajar lebih giat!\")\n",
    "if nilai == 'C' :\n",
    "    print (\"Jangan bermalas, ayo belajar!\")\n",
    "if nilai == 'D' :\n",
    "    print (\"Kamu harus mengulang kembali semester depan, semangat!\")\n",
    "if nilai == 'E' :\n",
    "    print (\"berjanjilah kamu tidak akan mendapat huruf ini lagi!\")\n",
    "\n",
    "    \n",
    "#Output yang ditampilkan akan sesuai dengan nilai yang kita input\n",
    "#apabila nilai yang diinput tidak ada dalam operatr if, hasil tidak akan ditampilkan oleh progra,"
   ]
  },
  {
   "cell_type": "code",
   "execution_count": 22,
   "id": "74bb1b74",
   "metadata": {},
   "outputs": [
    {
     "name": "stdout",
     "output_type": "stream",
     "text": [
      "Masukkan bilangan :18\n",
      "18 termasuk dalam himpunan bilangan genap\n"
     ]
    }
   ],
   "source": [
    "#program untuk menentukan bilangan ganjil atau genap dengan operator if dan else\n",
    "bilangan = int (input ('Masukkan bilangan :'))\n",
    "\n",
    "if bilangan % 2 == 1:\n",
    "    print (bilangan, 'termasuk dalam himpunan bilangan ganjil')\n",
    "else :\n",
    "    print (bilangan, 'termasuk dalam himpunan bilangan genap')"
   ]
  },
  {
   "cell_type": "code",
   "execution_count": 21,
   "id": "7cddcec2",
   "metadata": {},
   "outputs": [
    {
     "name": "stdout",
     "output_type": "stream",
     "text": [
      "2\n",
      "18\n",
      "4\n"
     ]
    }
   ],
   "source": [
    "a = 5\n",
    "b = 17\n",
    "\n",
    "if b > 10 :\n",
    "    a = a-3\n",
    "    q = b+1\n",
    "    r = a*2\n",
    "    print (a)\n",
    "    print (q)\n",
    "    print (r)\n",
    "\n",
    "#apabila variabel b memenuhi syarat dalam operator if, maka akan a dideklarasikan \n",
    "#kemudian akan diproses a = a-3 sehingga output yang dihasilkan adalah a = 5-3 adalah 2\n",
    "#pada q akan diproses q = b+1 sehingga output yang dihasilkan adalah 18\n",
    "#pada r akan diproses a = a*2 dimana a yang digunakan adalah hasil dari output a = 5-3 yaitu 2. Sehingga akan ditampilkan r = 2*2 yaitu 4"
   ]
  },
  {
   "cell_type": "code",
   "execution_count": 16,
   "id": "fbe31dba",
   "metadata": {},
   "outputs": [],
   "source": [
    "a = 80\n",
    "b = 5\n",
    "\n",
    "if a<40 :\n",
    "    x = a/2\n",
    "    y = b-12\n",
    "    print (y)\n",
    "    print (x)\n",
    "    \n",
    "#Tidak akan ada output yang dihasilkan karena variabel x tidak memenuhi syarat dari operator if"
   ]
  }
 ],
 "metadata": {
  "kernelspec": {
   "display_name": "Python 3 (ipykernel)",
   "language": "python",
   "name": "python3"
  },
  "language_info": {
   "codemirror_mode": {
    "name": "ipython",
    "version": 3
   },
   "file_extension": ".py",
   "mimetype": "text/x-python",
   "name": "python",
   "nbconvert_exporter": "python",
   "pygments_lexer": "ipython3",
   "version": "3.9.13"
  }
 },
 "nbformat": 4,
 "nbformat_minor": 5
}
